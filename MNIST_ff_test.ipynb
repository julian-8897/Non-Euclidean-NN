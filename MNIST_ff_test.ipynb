{
 "cells": [
  {
   "cell_type": "markdown",
   "metadata": {},
   "source": [
    "Imports"
   ]
  },
  {
   "cell_type": "code",
   "execution_count": 1,
   "metadata": {},
   "outputs": [],
   "source": [
    "#from models import ff_eucl\n",
    "import ff_hyp\n",
    "import numpy as np\n",
    "import matplotlib.pyplot as plt\n",
    "import torch\n",
    "import torch.nn as nn\n",
    "import torch.optim as optim\n",
    "import torchvision\n",
    "import geoopt\n",
    "from time import time\n",
    "from torchvision import datasets, transforms\n",
    "from torch.utils.tensorboard import SummaryWriter\n",
    "import helper\n",
    "#torch.cuda.is_available()\n",
    "\n",
    "#Disable Debugging APIs\n",
    "torch.autograd.set_detect_anomaly(False)\n",
    "torch.autograd.profiler.profile(False)\n",
    "torch.autograd.profiler.emit_nvtx(False)\n",
    "\n",
    "#cuDNN Autotuner\n",
    "torch.backends.cudnn.benchmark = True"
   ]
  },
  {
   "cell_type": "markdown",
   "metadata": {},
   "source": [
    "#CUDA check"
   ]
  },
  {
   "cell_type": "code",
   "execution_count": 2,
   "metadata": {},
   "outputs": [
    {
     "data": {
      "text/plain": [
       "device(type='cpu')"
      ]
     },
     "execution_count": 2,
     "metadata": {},
     "output_type": "execute_result"
    }
   ],
   "source": [
    "device = torch.device('cuda' if torch.cuda.is_available() else 'cpu')\n",
    "device"
   ]
  },
  {
   "cell_type": "markdown",
   "metadata": {},
   "source": [
    "#Data Transformation"
   ]
  },
  {
   "cell_type": "code",
   "execution_count": 3,
   "metadata": {},
   "outputs": [],
   "source": [
    "transform = transforms.Compose([transforms.ToTensor(),\n",
    "                                #transforms.Normalize((0.1307,), (0.3081,)), \n",
    "                              ])"
   ]
  },
  {
   "cell_type": "markdown",
   "metadata": {},
   "source": [
    "#Training, validation and test data"
   ]
  },
  {
   "cell_type": "code",
   "execution_count": 4,
   "metadata": {},
   "outputs": [
    {
     "name": "stdout",
     "output_type": "stream",
     "text": [
      "60000\n"
     ]
    },
    {
     "name": "stderr",
     "output_type": "stream",
     "text": [
      "C:\\Users\\pc 3\\AppData\\Local\\Programs\\Python\\Python39\\lib\\site-packages\\torchvision\\datasets\\mnist.py:498: UserWarning: The given NumPy array is not writeable, and PyTorch does not support non-writeable tensors. This means you can write to the underlying (supposedly non-writeable) NumPy array using the tensor. You may want to copy the array to protect its data or make it writeable before converting it to a tensor. This type of warning will be suppressed for the rest of this program. (Triggered internally at  ..\\torch\\csrc\\utils\\tensor_numpy.cpp:180.)\n",
      "  return torch.from_numpy(parsed.astype(m[2], copy=False)).view(*s)\n"
     ]
    }
   ],
   "source": [
    "train_set = datasets.MNIST('PATH_TO_STORE_TRAINSET', download=True, train=True, transform=transform)\n",
    "test_set = datasets.MNIST('PATH_TO_STORE_TESTSET', download=True, train=False, transform=transform)\n",
    "\n",
    "size = len(train_set)\n",
    "print(size)\n",
    "\n",
    "train_data, val_data = torch.utils.data.random_split(train_set, [int(size-size*0.2), int(size*0.2)])\n",
    "\n",
    "trainloader = torch.utils.data.DataLoader(train_data, batch_size=64, shuffle=True, num_workers=6, pin_memory=True)\n",
    "valloader = torch.utils.data.DataLoader(val_data, batch_size=64, shuffle= True, num_workers=6, pin_memory=True)\n",
    "testloader = torch.utils.data.DataLoader(test_set, batch_size=64, shuffle= True, num_workers=6, pin_memory=True)"
   ]
  },
  {
   "cell_type": "markdown",
   "metadata": {},
   "source": [
    "Initializing the model"
   ]
  },
  {
   "cell_type": "code",
   "execution_count": 5,
   "metadata": {},
   "outputs": [],
   "source": [
    "# images, labels = next(iter(trainloader))\n",
    "# images = images.view(images.shape[0], -1)\n",
    "# grid = torchvision.utils.make_grid(images)\n",
    "# tb = SummaryWriter()\n",
    "# tb.add_image(\"images\", grid)\n",
    "# tb.add_graph(model, images)\n",
    "# model.to(device)"
   ]
  },
  {
   "cell_type": "code",
   "execution_count": 6,
   "metadata": {},
   "outputs": [
    {
     "name": "stdout",
     "output_type": "stream",
     "text": [
      "[[0.1, 0.01, 0.001], [64, 128, 256], [True, False]]\n",
      "0.1 64 True\n",
      "0.1 64 False\n",
      "0.1 128 True\n",
      "0.1 128 False\n",
      "0.1 256 True\n",
      "0.1 256 False\n",
      "0.01 64 True\n",
      "0.01 64 False\n",
      "0.01 128 True\n",
      "0.01 128 False\n",
      "0.01 256 True\n",
      "0.01 256 False\n",
      "0.001 64 True\n",
      "0.001 64 False\n",
      "0.001 128 True\n",
      "0.001 128 False\n",
      "0.001 256 True\n",
      "0.001 256 False\n"
     ]
    }
   ],
   "source": [
    "from itertools import product\n",
    "parameters = dict(\n",
    "    lr = [0.1, 0.01, 0.001],\n",
    "    batch_size = [64,128,256],\n",
    "    shuffle = [True, False]\n",
    ")\n",
    "\n",
    "param_values = [v for v in parameters.values()]\n",
    "print(param_values)\n",
    "\n",
    "for lr,batch_size, shuffle in product(*param_values):\n",
    "    print(lr, batch_size, shuffle)"
   ]
  },
  {
   "cell_type": "markdown",
   "metadata": {},
   "source": [
    "Loss Function"
   ]
  },
  {
   "cell_type": "code",
   "execution_count": 7,
   "metadata": {},
   "outputs": [],
   "source": [
    "#criterion = nn.CrossEntropyLoss()\n",
    "# #criterion = nn.NLLLoss()\n",
    "# images, labels = next(iter(trainloader))\n",
    "# images, labels = images.to(device), labels.to(device)\n",
    "# images = 0.0357*images.view(images.shape[0], -1)\n",
    "# print(images)\n",
    "\n",
    "# out = model(images) #output\n",
    "# print(out)\n",
    "# loss = criterion(out, labels) #calculate the loss"
   ]
  },
  {
   "cell_type": "markdown",
   "metadata": {},
   "source": [
    "#Training, validating, prediction, and hyperparameter tuning functions"
   ]
  },
  {
   "cell_type": "code",
   "execution_count": 8,
   "metadata": {},
   "outputs": [],
   "source": [
    "### Single prediction function\n",
    "def get_num_correct(preds, labels):\n",
    "    return preds.argmax(dim=1).eq(labels).sum().item()\n",
    "\n",
    "### Training function\n",
    "def train_epoch(model, dataloader, optimizer, criterion):\n",
    "    model.train()\n",
    "    train_loss = 0\n",
    "    total_correct = 0\n",
    "    for images, labels in dataloader:\n",
    "        images, labels = images.to(device), labels.to(device)\n",
    "        # Flatten MNIST images into a 784 long vector\n",
    "        images = images.view(images.shape[0], -1)\n",
    "        #images = ball.projx(images.view(images.shape[0], -1))\n",
    "        # Training pass\n",
    "        optimizer.zero_grad()\n",
    "        # for param in model.parameters():\n",
    "        #     param.grad = None\n",
    "\n",
    "        output = model(images)\n",
    "        loss = criterion(output, labels)  \n",
    "        train_loss += loss.item()\n",
    "        total_correct += get_num_correct(output, labels)\n",
    "        #backpropagation\n",
    "        loss.backward()      \n",
    "        #Weight optimization\n",
    "        optimizer.step()  \n",
    "\n",
    "    return train_loss/len(dataloader.dataset) , total_correct\n",
    "\n",
    "### Validation function\n",
    "def val_epoch(model, dataloader, criterion):\n",
    "    model.eval()\n",
    "    val_loss = 0\n",
    "    val_correct = 0\n",
    "    with torch.no_grad():\n",
    "        for  images, labels in dataloader:\n",
    "            images, labels = images.to(device), labels.to(device)\n",
    "            # Flatten MNIST images into a 784 long vector\n",
    "            images = images.view(images.shape[0], -1)\n",
    "            #images = ball.projx(images.view(images.shape[0], -1))\n",
    "            output = model(images)\n",
    "            loss = criterion(output, labels)  \n",
    "            val_loss += loss.item()\n",
    "            val_correct += get_num_correct(output, labels)\n",
    "    \n",
    "    return val_loss/len(dataloader.dataset) , val_correct\n",
    "\n",
    "\n",
    "### Hyperparameter tuning function\n",
    "def hparams_tune(epochs):\n",
    "    for run_id, (lr,batch_size, shuffle) in enumerate(product(*param_values)):\n",
    "        print(\"run id:\", run_id + 1)\n",
    "        model = ff_eucl.EuclFF(784, 512, 256, 10, nn.ReLU())\n",
    "        trainloader = torch.utils.data.DataLoader(train_data,batch_size = batch_size, shuffle = shuffle)\n",
    "        valloader = torch.utils.data.DataLoader(val_data, batch_size=batch_size, shuffle= shuffle)\n",
    "        optimizer = optim.SGD(model.parameters(), lr=lr)\n",
    "        criterion = torch.nn.CrossEntropyLoss()\n",
    "        comment = f' batch_size = {batch_size} lr = {lr} shuffle = {shuffle}'\n",
    "        tb = SummaryWriter(comment=comment)\n",
    "        \n",
    "        for epoch in range(epochs):\n",
    "            train_loss, total_correct = train_epoch(model, trainloader, optimizer, criterion)\n",
    "            val_loss, val_correct = val_epoch(model, valloader, criterion)\n",
    "                \n",
    "            tb.add_scalar(\"Training Loss\", train_loss, epoch)\n",
    "            tb.add_scalar(\"Validation Loss\", val_loss, epoch)\n",
    "            tb.add_scalar(\"Training Accuracy\", total_correct/len(train_data), epoch)\n",
    "            tb.add_scalar(\"Validation Accuracy\", val_correct/len(val_data), epoch)\n",
    "\n",
    "            print(\"epoch:\", epoch, \"training loss:\",train_loss, \"validation loss:\", val_loss,\n",
    "            \"training accuracy:\", total_correct/len(train_data), \"validation accuracy:\", val_correct/len(val_data))\n",
    "        \n",
    "        tb.add_hparams(\n",
    "                {\"lr\": lr, \"bsize\": batch_size, \"shuffle\":shuffle},\n",
    "                {\n",
    "                    \"training accuracy\": total_correct/ len(train_data),\n",
    "                    \"validation accuracy\": val_correct/ len(val_data),\n",
    "                    \"training loss\": train_loss,\n",
    "                    \"validation loss\": val_loss,\n",
    "                },\n",
    "            )\n",
    "    tb.close()\n",
    "\n",
    "    return None\n",
    "\n",
    "### Model evaluation\n",
    "def model_eval(model, epochs, trainloader, valloader, optimizer, criterion):\n",
    "    tb = SummaryWriter()\n",
    "    t_loss = []\n",
    "    v_loss = []\n",
    "    t_accuracy = []\n",
    "    v_accuracy = []\n",
    "    epoch_values = []\n",
    "    for epoch in range(epochs):\n",
    "        train_loss, total_correct = train_epoch(model, trainloader, optimizer, criterion) \n",
    "        t_loss.append(train_loss)\n",
    "        t_accuracy.append(total_correct/len(train_data))\n",
    "        val_loss, val_correct = val_epoch(model, valloader, criterion)\n",
    "        v_loss.append(val_loss)\n",
    "        v_accuracy.append(val_correct/len(val_data))\n",
    "        epoch_values.append(epoch)\n",
    "        \n",
    "        tb.add_scalar(\"Training Loss\", train_loss, epoch)\n",
    "        tb.add_scalar(\"Validation Loss\", val_loss, epoch)\n",
    "        tb.add_scalar(\"Training Accuracy\", total_correct/len(train_data), epoch)\n",
    "        tb.add_scalar(\"Validation Accuracy\", val_correct/len(val_data), epoch)\n",
    "        print(\"epoch:\", epoch, \"training loss:\",train_loss, \"validation loss:\", val_loss,\n",
    "        \"training accuracy:\", total_correct/len(train_data), \"validation accuracy:\", val_correct/len(val_data))\n",
    "\n",
    "\n",
    "    return t_loss, v_loss, t_accuracy, v_accuracy, epoch_values\n"
   ]
  },
  {
   "cell_type": "code",
   "execution_count": 9,
   "metadata": {},
   "outputs": [
    {
     "name": "stdout",
     "output_type": "stream",
     "text": [
      "HypFF(\n",
      "  (act_fn): ReLU()\n",
      "  (fc1): MobLinear(in_features=784, out_features=512, bias=True)\n",
      "  (fc2): MobLinear(in_features=512, out_features=256, bias=True)\n",
      "  (fc3): MobLinear(in_features=256, out_features=10, bias=True)\n",
      ")\n",
      "epoch: 0 training loss: 0.03090703800568978 validation loss: 0.024504078636566798 training accuracy: 0.5011041666666667 validation accuracy: 0.9211666666666667\n",
      "epoch: 1 training loss: 0.023344154765208562 validation loss: 0.023045879930257796 training accuracy: 0.9470208333333333 validation accuracy: 0.9621666666666666\n",
      "epoch: 2 training loss: 0.022844919808208942 validation loss: 0.0228903198937575 training accuracy: 0.9700208333333333 validation accuracy: 0.9676666666666667\n",
      "epoch: 3 training loss: 0.022690198289851346 validation loss: 0.022826222449541092 training accuracy: 0.9789583333333334 validation accuracy: 0.97125\n",
      "epoch: 4 training loss: 0.02259212752431631 validation loss: 0.022762749512990316 training accuracy: 0.9837708333333334 validation accuracy: 0.97575\n",
      "epoch: 5 training loss: 0.022524740512172382 validation loss: 0.02273557257652283 training accuracy: 0.9877083333333333 validation accuracy: 0.9765\n",
      "epoch: 6 training loss: 0.022469862081110476 validation loss: 0.02270772663752238 training accuracy: 0.990375 validation accuracy: 0.9765833333333334\n",
      "epoch: 7 training loss: 0.022427722501258057 validation loss: 0.022712279846270878 training accuracy: 0.9927916666666666 validation accuracy: 0.977\n",
      "epoch: 8 training loss: 0.0223935032710433 validation loss: 0.022671201109886168 training accuracy: 0.9946458333333333 validation accuracy: 0.9785\n",
      "epoch: 9 training loss: 0.022370584857960542 validation loss: 0.022675674438476564 training accuracy: 0.9956041666666666 validation accuracy: 0.9786666666666667\n"
     ]
    }
   ],
   "source": [
    "\n",
    "#model = ff_eucl.EuclFF(784, 512, 256, 10, nn.ReLU())\n",
    "model = ff_hyp.HypFF(784, 512, 256, 10)\n",
    "print(model)\n",
    "\n",
    "epochs = 10\n",
    "#Hyperparameter tuning\n",
    "#hparams_tune(epochs)\n",
    "#Model evaluation\n",
    "lr=0.01\n",
    "criterion = torch.nn.CrossEntropyLoss()\n",
    "#criterion = torch.nn.NLLLoss()\n",
    "\n",
    "#optimizer = optim.Adam(model.parameters(), lr=lr)\n",
    "optimizer = geoopt.optim.RiemannianSGD(model.parameters(), lr=lr, momentum=0.9)\n",
    "t_loss ,v_loss, t_accuracy, v_accuracy, epoch_values = model_eval(model, epochs, trainloader, valloader, optimizer, criterion)"
   ]
  },
  {
   "cell_type": "code",
   "execution_count": 10,
   "metadata": {},
   "outputs": [
    {
     "data": {
      "image/png": "[encoded data removed]",
      "text/plain": [
       "<Figure size 432x288 with 2 Axes>"
      ]
     },
     "metadata": {
      "needs_background": "light"
     },
     "output_type": "display_data"
    }
   ],
   "source": [
    "fig , (ax0, ax1) = plt.subplots(1, 2)\n",
    "\n",
    "# ax0 = fig.add_subplot(121, title=\"Loss curves\")\n",
    "# ax1 = fig.add_subplot(122, title=\"Accuracy curves\")\n",
    "ax0.set_title('Loss Curves')\n",
    "ax1.set_title('Accuracy Curves')\n",
    "ax0.plot(epoch_values, t_loss, 'bo-', label='train')\n",
    "ax0.plot(epoch_values, v_loss, 'ro-', label='val')\n",
    "ax1.plot(epoch_values, t_accuracy, 'bo-', label='train')\n",
    "ax1.plot(epoch_values, v_accuracy, 'ro-', label='val')\n",
    "\n",
    "ax0.set_xlabel('Epochs')\n",
    "ax1.set_xlabel('Epochs')\n",
    "ax0.set_ylabel('Losses')\n",
    "ax1.set_ylabel('Accuracy')\n",
    "ax0.legend()\n",
    "ax1.legend()\n",
    "\n",
    "fig.suptitle('no. of epochs = {}, lr = {}, batch size = 64'.format(epochs, lr))\n",
    "fig.tight_layout()"
   ]
  },
  {
   "cell_type": "code",
   "execution_count": 11,
   "metadata": {},
   "outputs": [],
   "source": [
    "# for run_id, (lr,batch_size, shuffle) in enumerate(product(*param_values)):\n",
    "#     print(\"run id:\", run_id + 1)\n",
    "#     model = ff_eucl.EuclFF(784, 512, 256, 10, nn.ReLU())\n",
    "#     trainloader = torch.utils.data.DataLoader(train_data,batch_size = batch_size, shuffle = shuffle)\n",
    "#     valloader = torch.utils.data.DataLoader(val_data, batch_size=batch_size, shuffle= shuffle)\n",
    "#     optimizer = optim.SGD(model.parameters(), lr=lr)\n",
    "#     criterion = torch.nn.CrossEntropyLoss()\n",
    "#     comment = f' batch_size = {batch_size} lr = {lr} shuffle = {shuffle}'\n",
    "#     tb = SummaryWriter(comment=comment)\n",
    "# # time0 = time()\n",
    "#     epochs = 10\n",
    "#     for epoch in range(epochs):\n",
    "#     #     model.train()\n",
    "#     #     train_loss = 0\n",
    "#     #     total_correct = 0\n",
    "#     #     for images, labels in trainloader:\n",
    "#     #         images, labels = images.to(device), labels.to(device)\n",
    "#     #         # Flatten MNIST images into a 784 long vector\n",
    "#     #         images = images.view(images.shape[0], -1)\n",
    "#     #         #images = ball.projx(images.view(images.shape[0], -1))\n",
    "#     #         # Training pass\n",
    "#     #         optimizer.zero_grad()\n",
    "#     #         output = model(images)\n",
    "#     #         loss = criterion(output, labels)  \n",
    "#     #         train_loss += loss.item()\n",
    "#     #         total_correct += get_num_correct(output, labels)\n",
    "#     #         #backpropagation\n",
    "#     #         loss.backward()      \n",
    "#     #         #Weight optimization\n",
    "#     #         optimizer.step()  \n",
    "#         train_loss, total_correct = train_epoch(model, trainloader, optimizer)\n",
    "#         val_loss, val_correct = val_epoch(model, valloader)\n",
    "#         # val_loss = 0\n",
    "#         # val_correct = 0\n",
    "#         # model.eval()\n",
    "#         # for  images, labels in valloader:\n",
    "#         #     images, labels = images.to(device), labels.to(device)\n",
    "#         #     # Flatten MNIST images into a 784 long vector\n",
    "#         #     images = images.view(images.shape[0], -1)\n",
    "#         #     #images = ball.projx(images.view(images.shape[0], -1))\n",
    "#         #     output = model(images)\n",
    "#         #     loss = criterion(output, labels)  \n",
    "#         #     val_loss += loss.item()\n",
    "#         #     val_correct += get_num_correct(output, labels)\n",
    "            \n",
    "#         tb.add_scalar(\"Training Loss\", train_loss, epoch)\n",
    "#         tb.add_scalar(\"Validation Loss\", val_loss, epoch)\n",
    "#         tb.add_scalar(\"Training Accuracy\", total_correct/len(train_data), epoch)\n",
    "#         tb.add_scalar(\"Validation Accuracy\", val_correct/len(val_data), epoch)\n",
    "\n",
    "#         print(\"epoch:\", epoch, \"training loss:\",train_loss, \"validation loss:\", val_loss,\n",
    "#         \"training accuracy:\", total_correct/len(train_data), \"validation accuracy:\", val_correct/len(val_data))\n",
    "    \n",
    "#     tb.add_hparams(\n",
    "#             {\"lr\": lr, \"bsize\": batch_size, \"shuffle\":shuffle},\n",
    "#             {\n",
    "#                 \"training accuracy\": total_correct/ len(train_data),\n",
    "#                 \"validation accuracy\": val_correct/ len(val_data),\n",
    "#                 \"training loss\": train_loss,\n",
    "#                 \"validation loss\": val_loss,\n",
    "#             },\n",
    "#         )\n",
    "# tb.close()\n",
    "# #     else:\n",
    "# #         print(\"Epoch {} - Training loss: {}\".format(e, running_loss/len(trainloader)))\n",
    "# # print(\"\\nTraining Time (in minutes) =\",(time()-time0)/60)"
   ]
  },
  {
   "cell_type": "code",
   "execution_count": 12,
   "metadata": {},
   "outputs": [],
   "source": [
    "# images, labels = next(iter(testloader))\n",
    "# #images, labels = images.to(device), labels.to(device)\n",
    "\n",
    "# img = images[0].view(1, 784)\n",
    "# #img = ball.projx(images[0].view(1, 784))\n",
    "# #img_gpu = img.to(device)\n",
    "# with torch.no_grad():\n",
    "#     out = nn.LogSoftmax(model(img))\n",
    "\n",
    "# ps = out.cpu()\n",
    "# print(ps)\n",
    "# probab = list(ps.numpy()[0])\n",
    "# print(probab)\n",
    "# print(\"Predicted Digit =\", probab.index(max(probab)))\n",
    "# helper.view_classify(img.view(1, 28, 28), ps)"
   ]
  },
  {
   "cell_type": "markdown",
   "metadata": {},
   "source": [
    "#Model Prediction and Model Accuracy"
   ]
  },
  {
   "cell_type": "code",
   "execution_count": 13,
   "metadata": {},
   "outputs": [
    {
     "ename": "NameError",
     "evalue": "name 'ball' is not defined",
     "output_type": "error",
     "traceback": [
      "\u001b[1;31m---------------------------------------------------------------------------\u001b[0m",
      "\u001b[1;31mNameError\u001b[0m                                 Traceback (most recent call last)",
      "\u001b[1;32m~\\AppData\\Local\\Temp/ipykernel_18376/411422784.py\u001b[0m in \u001b[0;36m<module>\u001b[1;34m\u001b[0m\n\u001b[0;32m      4\u001b[0m   \u001b[1;32mfor\u001b[0m \u001b[0mi\u001b[0m \u001b[1;32min\u001b[0m \u001b[0mrange\u001b[0m\u001b[1;33m(\u001b[0m\u001b[0mlen\u001b[0m\u001b[1;33m(\u001b[0m\u001b[0mlabels\u001b[0m\u001b[1;33m)\u001b[0m\u001b[1;33m)\u001b[0m\u001b[1;33m:\u001b[0m\u001b[1;33m\u001b[0m\u001b[1;33m\u001b[0m\u001b[0m\n\u001b[0;32m      5\u001b[0m     \u001b[0mimg\u001b[0m \u001b[1;33m=\u001b[0m \u001b[0mimages\u001b[0m\u001b[1;33m[\u001b[0m\u001b[0mi\u001b[0m\u001b[1;33m]\u001b[0m\u001b[1;33m.\u001b[0m\u001b[0mview\u001b[0m\u001b[1;33m(\u001b[0m\u001b[1;36m1\u001b[0m\u001b[1;33m,\u001b[0m \u001b[1;36m784\u001b[0m\u001b[1;33m)\u001b[0m\u001b[1;33m\u001b[0m\u001b[1;33m\u001b[0m\u001b[0m\n\u001b[1;32m----> 6\u001b[1;33m     \u001b[0mimg\u001b[0m \u001b[1;33m=\u001b[0m \u001b[0mball\u001b[0m\u001b[1;33m.\u001b[0m\u001b[0mprojx\u001b[0m\u001b[1;33m(\u001b[0m\u001b[0mimages\u001b[0m\u001b[1;33m[\u001b[0m\u001b[0mi\u001b[0m\u001b[1;33m]\u001b[0m\u001b[1;33m.\u001b[0m\u001b[0mview\u001b[0m\u001b[1;33m(\u001b[0m\u001b[1;36m1\u001b[0m\u001b[1;33m,\u001b[0m \u001b[1;36m784\u001b[0m\u001b[1;33m)\u001b[0m\u001b[1;33m)\u001b[0m\u001b[1;33m\u001b[0m\u001b[1;33m\u001b[0m\u001b[0m\n\u001b[0m\u001b[0;32m      7\u001b[0m     \u001b[1;32mwith\u001b[0m \u001b[0mtorch\u001b[0m\u001b[1;33m.\u001b[0m\u001b[0mno_grad\u001b[0m\u001b[1;33m(\u001b[0m\u001b[1;33m)\u001b[0m\u001b[1;33m:\u001b[0m\u001b[1;33m\u001b[0m\u001b[1;33m\u001b[0m\u001b[0m\n\u001b[0;32m      8\u001b[0m         \u001b[0mout\u001b[0m \u001b[1;33m=\u001b[0m \u001b[0mmodel\u001b[0m\u001b[1;33m(\u001b[0m\u001b[0mimg\u001b[0m\u001b[1;33m)\u001b[0m\u001b[1;33m\u001b[0m\u001b[1;33m\u001b[0m\u001b[0m\n",
      "\u001b[1;31mNameError\u001b[0m: name 'ball' is not defined"
     ]
    }
   ],
   "source": [
    "correct_count, all_count = 0, 0\n",
    "for images,labels in testloader:\n",
    "  images, labels = images.to(device), labels.to(device)\n",
    "  for i in range(len(labels)):\n",
    "    img = images[i].view(1, 784)\n",
    "    img = ball.projx(images[i].view(1, 784))\n",
    "    with torch.no_grad():\n",
    "        out = model(img)\n",
    "\n",
    "    ps = out.cpu()\n",
    "    probab = list(ps.numpy()[0])\n",
    "    pred_label = probab.index(max(probab))\n",
    "    true_label = labels.cpu().numpy()[i]\n",
    "    if(true_label == pred_label):\n",
    "      correct_count += 1\n",
    "    all_count += 1\n",
    "    \n",
    "print(\"Number Of Images Tested =\", all_count)\n",
    "print(\"\\nModel Accuracy =\", (correct_count/all_count))"
   ]
  },
  {
   "cell_type": "markdown",
   "metadata": {},
   "source": [
    "Current status of experiments:\n",
    "1. Using just Hyperboic Linear modules, and with the appropriate self-tuned hyperparameters, and a batch size of 512, the average accuracy was around 90 percent\n",
    "2. With the use of activation functions(ReLu, ReLu, then LogSoftMax at the output layer), (by applying the functions in the tangent space, then mapping it back to the hyperbolic space), we see an increase in the model accuracy to about 97-98 percent.\n",
    "3. To account for the correct class probabilities , linear layer was used as the output layer instead, together with the crossentropy loss function."
   ]
  },
  {
   "cell_type": "code",
   "execution_count": null,
   "metadata": {},
   "outputs": [],
   "source": []
  }
 ],
 "metadata": {
  "interpreter": {
   "hash": "2454a3adb90052121e3433f22c2e288f84a7f03217a2a46086941be12932708b"
  },
  "kernelspec": {
   "display_name": "Python 3.9.6 64-bit",
   "name": "python3"
  },
  "language_info": {
   "codemirror_mode": {
    "name": "ipython",
    "version": 3
   },
   "file_extension": ".py",
   "mimetype": "text/x-python",
   "name": "python",
   "nbconvert_exporter": "python",
   "pygments_lexer": "ipython3",
   "version": "3.9.6"
  },
  "orig_nbformat": 4
 },
 "nbformat": 4,
 "nbformat_minor": 2
}
