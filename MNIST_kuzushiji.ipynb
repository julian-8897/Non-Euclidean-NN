{
 "cells": [
  {
   "cell_type": "markdown",
   "metadata": {},
   "source": [
    "Imports"
   ]
  },
  {
   "cell_type": "code",
   "execution_count": 8,
   "metadata": {},
   "outputs": [],
   "source": [
    "from models import ff_eucl\n",
    "import ff_hyp\n",
    "import numpy as np\n",
    "import matplotlib.pyplot as plt\n",
    "import torch\n",
    "import torch.nn as nn\n",
    "import torch.optim as optim\n",
    "import torchvision\n",
    "import geoopt\n",
    "from time import time\n",
    "from torchvision import datasets, transforms\n",
    "import helper\n",
    "from torch.utils.tensorboard import SummaryWriter\n",
    "torch.cuda.is_available()\n",
    "\n",
    "#Disable Debugging APIs\n",
    "torch.autograd.set_detect_anomaly(False)\n",
    "torch.autograd.profiler.profile(False)\n",
    "torch.autograd.profiler.emit_nvtx(False)\n",
    "\n",
    "#cuDNN Autotuner\n",
    "torch.backends.cudnn.benchmark = True"
   ]
  },
  {
   "cell_type": "markdown",
   "metadata": {},
   "source": [
    "CUDA check"
   ]
  },
  {
   "cell_type": "code",
   "execution_count": 9,
   "metadata": {},
   "outputs": [
    {
     "data": {
      "text/plain": [
       "device(type='cpu')"
      ]
     },
     "execution_count": 9,
     "metadata": {},
     "output_type": "execute_result"
    }
   ],
   "source": [
    "device = torch.device('cuda' if torch.cuda.is_available() else 'cpu')\n",
    "device"
   ]
  },
  {
   "cell_type": "markdown",
   "metadata": {},
   "source": [
    "Data Transformation"
   ]
  },
  {
   "cell_type": "code",
   "execution_count": 10,
   "metadata": {},
   "outputs": [],
   "source": [
    "transform = transforms.Compose([transforms.ToTensor(),\n",
    "                                #transforms.Normalize((0.1307,), (0.3081,)), \n",
    "                              ])"
   ]
  },
  {
   "cell_type": "markdown",
   "metadata": {},
   "source": [
    "Training and Test data from MNIST data set"
   ]
  },
  {
   "cell_type": "code",
   "execution_count": 11,
   "metadata": {},
   "outputs": [
    {
     "name": "stdout",
     "output_type": "stream",
     "text": [
      "60000\n"
     ]
    }
   ],
   "source": [
    "train_set = datasets.KMNIST('PATH_TO_STORE_TRAINSET', download=True, train=True, transform=transform)\n",
    "test_set = datasets.KMNIST('PATH_TO_STORE_TESTSET', download=True, train=False, transform=transform)\n",
    "\n",
    "size = len(train_set)\n",
    "print(size)\n",
    "\n",
    "train_data, val_data = torch.utils.data.random_split(train_set, [int(size-size*0.2), int(size*0.2)])\n",
    "trainloader = torch.utils.data.DataLoader(train_data, batch_size=64, shuffle=True, num_workers=6, pin_memory=True)\n",
    "valloader = torch.utils.data.DataLoader(val_data, batch_size=64, shuffle= True, num_workers=6, pin_memory=True)\n",
    "testloader = torch.utils.data.DataLoader(test_set, batch_size=64, shuffle= True, num_workers=6, pin_memory=True)"
   ]
  },
  {
   "cell_type": "markdown",
   "metadata": {},
   "source": [
    "Initializing the model"
   ]
  },
  {
   "cell_type": "markdown",
   "metadata": {},
   "source": [
    "Hyperparameters"
   ]
  },
  {
   "cell_type": "markdown",
   "metadata": {},
   "source": [
    "Optimizer"
   ]
  },
  {
   "cell_type": "code",
   "execution_count": 12,
   "metadata": {},
   "outputs": [],
   "source": [
    "\n",
    "# time0 = time()\n",
    "\n",
    "# epochs = 10\n",
    "# for e in range(epochs):\n",
    "#     running_loss = 0\n",
    "#     for images, labels in trainloader:\n",
    "#         images, labels = images.to(device), labels.to(device)\n",
    "#         # Flatten MNIST images into a 784 long vector\n",
    "#         images = 0.0357*images.view(images.shape[0], -1)\n",
    "    \n",
    "#         # Training pass\n",
    "#         optimizer.zero_grad()\n",
    "        \n",
    "#         output = model(images)\n",
    "#         loss = criterion(output, labels)\n",
    "        \n",
    "#         #backpropagation\n",
    "#         loss.backward()\n",
    "        \n",
    "#         #Weight optimization\n",
    "#         optimizer.step()\n",
    "        \n",
    "#         running_loss += loss.item()\n",
    "#     else:\n",
    "#         print(\"Epoch {} - Training loss: {}\".format(e, running_loss/len(trainloader)))\n",
    "# print(\"\\nTraining Time (in minutes) =\",(time()-time0)/60)"
   ]
  },
  {
   "cell_type": "code",
   "execution_count": 13,
   "metadata": {},
   "outputs": [],
   "source": [
    "### Single prediction function\n",
    "def get_num_correct(preds, labels):\n",
    "    return preds.argmax(dim=1).eq(labels).sum().item()\n",
    "\n",
    "### Training function\n",
    "def train_epoch(model, dataloader, optimizer, criterion):\n",
    "    model.train()\n",
    "    train_loss = 0\n",
    "    total_correct = 0\n",
    "    for images, labels in dataloader:\n",
    "        images, labels = images.to(device), labels.to(device)\n",
    "        # Flatten MNIST images into a 784 long vector\n",
    "        images = images.view(images.shape[0], -1)\n",
    "        #images = ball.projx(images.view(images.shape[0], -1))\n",
    "        # Training pass\n",
    "        optimizer.zero_grad()\n",
    "        # for param in model.parameters():\n",
    "        #     param.grad = None\n",
    "\n",
    "        output = model(images)\n",
    "        loss = criterion(output, labels)  \n",
    "        train_loss += loss.item()\n",
    "        total_correct += get_num_correct(output, labels)\n",
    "        #backpropagation\n",
    "        loss.backward()      \n",
    "        #Weight optimization\n",
    "        optimizer.step()  \n",
    "\n",
    "    return train_loss, total_correct\n",
    "\n",
    "### Validation function\n",
    "def val_epoch(model, dataloader, criterion):\n",
    "    model.eval()\n",
    "    val_loss = 0\n",
    "    val_correct = 0\n",
    "    with torch.no_grad():\n",
    "        for  images, labels in dataloader:\n",
    "            images, labels = images.to(device), labels.to(device)\n",
    "            # Flatten MNIST images into a 784 long vector\n",
    "            images = images.view(images.shape[0], -1)\n",
    "            #images = ball.projx(images.view(images.shape[0], -1))\n",
    "            output = model(images)\n",
    "            loss = criterion(output, labels)  \n",
    "            val_loss += loss.item()\n",
    "            val_correct += get_num_correct(output, labels)\n",
    "    \n",
    "    return val_loss, val_correct\n",
    "\n",
    "\n",
    "\n",
    "### Model evaluation\n",
    "def model_eval(model, epochs, trainloader, valloader, optimizer, criterion):\n",
    "    tb = SummaryWriter()\n",
    "    t_loss = []\n",
    "    v_loss = []\n",
    "    t_accuracy = []\n",
    "    v_accuracy = []\n",
    "    epoch_values = []\n",
    "    for epoch in range(epochs):\n",
    "        train_loss, total_correct = train_epoch(model, trainloader, optimizer, criterion) \n",
    "        t_loss.append(train_loss)\n",
    "        t_accuracy.append(total_correct/len(train_data))\n",
    "        val_loss, val_correct = val_epoch(model, valloader, criterion)\n",
    "        v_loss.append(val_loss)\n",
    "        v_accuracy.append(val_correct/len(val_data))\n",
    "        epoch_values.append(epoch)\n",
    "        \n",
    "        tb.add_scalar(\"Training Loss\", train_loss, epoch)\n",
    "        tb.add_scalar(\"Validation Loss\", val_loss, epoch)\n",
    "        tb.add_scalar(\"Training Accuracy\", total_correct/len(train_data), epoch)\n",
    "        tb.add_scalar(\"Validation Accuracy\", val_correct/len(val_data), epoch)\n",
    "        print(\"epoch:\", epoch, \"training loss:\",train_loss, \"validation loss:\", val_loss,\n",
    "        \"training accuracy:\", total_correct/len(train_data), \"validation accuracy:\", val_correct/len(val_data))\n",
    "\n",
    "\n",
    "    return t_loss, v_loss, t_accuracy, v_accuracy, epoch_values"
   ]
  },
  {
   "cell_type": "code",
   "execution_count": 14,
   "metadata": {},
   "outputs": [
    {
     "name": "stdout",
     "output_type": "stream",
     "text": [
      "HypFF(\n",
      "  (act_fn): ReLU()\n",
      "  (fc1): MobLinear(in_features=784, out_features=512, bias=True)\n",
      "  (fc2): MobLinear(in_features=512, out_features=256, bias=True)\n",
      "  (fc3): MobLinear(in_features=256, out_features=10, bias=True)\n",
      ")\n",
      "epoch: 0 training loss: 1572.4074251651764 validation loss: 319.785316824913 training accuracy: 0.397 validation accuracy: 0.7929166666666667\n",
      "epoch: 1 training loss: 1170.9979574680328 validation loss: 284.86343109607697 training accuracy: 0.8960208333333334 validation accuracy: 0.9283333333333333\n",
      "epoch: 2 training loss: 1116.6586233377457 validation loss: 280.54765594005585 training accuracy: 0.9525416666666666 validation accuracy: 0.9464166666666667\n",
      "epoch: 3 training loss: 1100.3390508890152 validation loss: 278.2570513486862 training accuracy: 0.9718333333333333 validation accuracy: 0.9540833333333333\n",
      "epoch: 4 training loss: 1090.6885832548141 validation loss: 277.06921434402466 training accuracy: 0.9813333333333333 validation accuracy: 0.9570833333333333\n",
      "epoch: 5 training loss: 1084.2689940929413 validation loss: 276.51290011405945 training accuracy: 0.987375 validation accuracy: 0.9596666666666667\n",
      "epoch: 6 training loss: 1079.4957132339478 validation loss: 276.07430851459503 training accuracy: 0.9919791666666666 validation accuracy: 0.95975\n",
      "epoch: 7 training loss: 1076.5033180713654 validation loss: 275.5747674703598 training accuracy: 0.9942291666666667 validation accuracy: 0.9625\n",
      "epoch: 8 training loss: 1074.119015097618 validation loss: 275.48484230041504 training accuracy: 0.9962708333333333 validation accuracy: 0.96325\n",
      "epoch: 9 training loss: 1072.3710519075394 validation loss: 275.2975846529007 training accuracy: 0.997375 validation accuracy: 0.96325\n"
     ]
    }
   ],
   "source": [
    "#model = ff_eucl.EuclFF(784, 512, 256, 10, nn.ReLU())\n",
    "model = ff_hyp.HypFF(784, 512, 256, 10)\n",
    "print(model)\n",
    "\n",
    "epochs = 10\n",
    "#Hyperparameter tuning\n",
    "#hparams_tune(epochs)\n",
    "#Model evaluation\n",
    "lr=0.01\n",
    "criterion = torch.nn.CrossEntropyLoss()\n",
    "#criterion = torch.nn.NLLLoss()\n",
    "\n",
    "#optimizer = optim.SGD(model.parameters(), lr=lr, momentum=0.9)\n",
    "optimizer = geoopt.optim.RiemannianSGD(model.parameters(), lr=lr, momentum=0.9)\n",
    "t_loss ,v_loss, t_accuracy, v_accuracy, epoch_values = model_eval(model, epochs, trainloader, valloader, optimizer, criterion)"
   ]
  },
  {
   "cell_type": "code",
   "execution_count": 18,
   "metadata": {},
   "outputs": [
    {
     "data": {
      "image/png": "[encoded data removed]",
      "text/plain": [
       "<Figure size 432x288 with 2 Axes>"
      ]
     },
     "metadata": {
      "needs_background": "light"
     },
     "output_type": "display_data"
    }
   ],
   "source": [
    "from matplotlib.ticker import FormatStrFormatter\n",
    "\n",
    "fig , (ax0, ax1) = plt.subplots(1, 2)\n",
    "\n",
    "# ax0 = fig.add_subplot(121, title=\"Loss curves\")\n",
    "# ax1 = fig.add_subplot(122, title=\"Accuracy curves\")\n",
    "ax0.set_title('Loss Curves')\n",
    "ax1.set_title('Accuracy Curves')\n",
    "ax0.plot(epoch_values, t_loss, 'bo-', label='train')\n",
    "ax0.plot(epoch_values, v_loss, 'ro-', label='val')\n",
    "ax1.plot(epoch_values, t_accuracy, 'bo-', label='train')\n",
    "ax1.plot(epoch_values, v_accuracy, 'ro-', label='val')\n",
    "\n",
    "\n",
    "start, end = ax1.get_ylim()\n",
    "ax1.yaxis.set_ticks(np.arange(start, end, 0.04))\n",
    "ax1.yaxis.set_major_formatter(FormatStrFormatter('%.2f'))\n",
    "\n",
    "ax0.set_xlabel('Epochs')\n",
    "ax1.set_xlabel('Epochs')\n",
    "ax0.set_ylabel('Losses')\n",
    "ax1.set_ylabel('Accuracy')\n",
    "ax0.legend()\n",
    "ax1.legend()\n",
    "\n",
    "fig.suptitle('no. of epochs = {}, lr = {}, batch size = 64'.format(epochs, lr))\n",
    "fig.tight_layout()"
   ]
  },
  {
   "cell_type": "code",
   "execution_count": 16,
   "metadata": {},
   "outputs": [],
   "source": [
    "# images, labels = next(iter(valloader))\n",
    "# #images, labels = images.to(device), labels.to(device)\n",
    "\n",
    "# img = 0.0357*images[0].view(1, 784)\n",
    "# img_gpu = img.to(device)\n",
    "# with torch.no_grad():\n",
    "#     out = model(img_gpu)\n",
    "\n",
    "# ps = out.cpu()\n",
    "# print(ps)\n",
    "# probab = list(ps.numpy()[0])\n",
    "# print(probab)\n",
    "# print(\"Predicted Digit =\", probab.index(max(probab)))\n",
    "# helper.view_classify(img.view(1, 28, 28), ps)"
   ]
  },
  {
   "cell_type": "code",
   "execution_count": 17,
   "metadata": {},
   "outputs": [
    {
     "ename": "KeyboardInterrupt",
     "evalue": "",
     "output_type": "error",
     "traceback": [
      "\u001b[1;31m---------------------------------------------------------------------------\u001b[0m",
      "\u001b[1;31mKeyboardInterrupt\u001b[0m                         Traceback (most recent call last)",
      "\u001b[1;32m~\\AppData\\Local\\Temp/ipykernel_11212/38128042.py\u001b[0m in \u001b[0;36m<module>\u001b[1;34m\u001b[0m\n\u001b[0;32m      5\u001b[0m     \u001b[0mimg\u001b[0m \u001b[1;33m=\u001b[0m \u001b[1;36m0.0357\u001b[0m\u001b[1;33m*\u001b[0m\u001b[0mimages\u001b[0m\u001b[1;33m[\u001b[0m\u001b[0mi\u001b[0m\u001b[1;33m]\u001b[0m\u001b[1;33m.\u001b[0m\u001b[0mview\u001b[0m\u001b[1;33m(\u001b[0m\u001b[1;36m1\u001b[0m\u001b[1;33m,\u001b[0m \u001b[1;36m784\u001b[0m\u001b[1;33m)\u001b[0m\u001b[1;33m\u001b[0m\u001b[1;33m\u001b[0m\u001b[0m\n\u001b[0;32m      6\u001b[0m     \u001b[1;32mwith\u001b[0m \u001b[0mtorch\u001b[0m\u001b[1;33m.\u001b[0m\u001b[0mno_grad\u001b[0m\u001b[1;33m(\u001b[0m\u001b[1;33m)\u001b[0m\u001b[1;33m:\u001b[0m\u001b[1;33m\u001b[0m\u001b[1;33m\u001b[0m\u001b[0m\n\u001b[1;32m----> 7\u001b[1;33m         \u001b[0mout\u001b[0m \u001b[1;33m=\u001b[0m \u001b[0mmodel\u001b[0m\u001b[1;33m(\u001b[0m\u001b[0mimg\u001b[0m\u001b[1;33m)\u001b[0m\u001b[1;33m\u001b[0m\u001b[1;33m\u001b[0m\u001b[0m\n\u001b[0m\u001b[0;32m      8\u001b[0m \u001b[1;33m\u001b[0m\u001b[0m\n\u001b[0;32m      9\u001b[0m \u001b[1;33m\u001b[0m\u001b[0m\n",
      "\u001b[1;32m~\\AppData\\Local\\Programs\\Python\\Python39\\lib\\site-packages\\torch\\nn\\modules\\module.py\u001b[0m in \u001b[0;36m_call_impl\u001b[1;34m(self, *input, **kwargs)\u001b[0m\n\u001b[0;32m   1049\u001b[0m         if not (self._backward_hooks or self._forward_hooks or self._forward_pre_hooks or _global_backward_hooks\n\u001b[0;32m   1050\u001b[0m                 or _global_forward_hooks or _global_forward_pre_hooks):\n\u001b[1;32m-> 1051\u001b[1;33m             \u001b[1;32mreturn\u001b[0m \u001b[0mforward_call\u001b[0m\u001b[1;33m(\u001b[0m\u001b[1;33m*\u001b[0m\u001b[0minput\u001b[0m\u001b[1;33m,\u001b[0m \u001b[1;33m**\u001b[0m\u001b[0mkwargs\u001b[0m\u001b[1;33m)\u001b[0m\u001b[1;33m\u001b[0m\u001b[1;33m\u001b[0m\u001b[0m\n\u001b[0m\u001b[0;32m   1052\u001b[0m         \u001b[1;31m# Do not call functions when jit is used\u001b[0m\u001b[1;33m\u001b[0m\u001b[1;33m\u001b[0m\u001b[1;33m\u001b[0m\u001b[0m\n\u001b[0;32m   1053\u001b[0m         \u001b[0mfull_backward_hooks\u001b[0m\u001b[1;33m,\u001b[0m \u001b[0mnon_full_backward_hooks\u001b[0m \u001b[1;33m=\u001b[0m \u001b[1;33m[\u001b[0m\u001b[1;33m]\u001b[0m\u001b[1;33m,\u001b[0m \u001b[1;33m[\u001b[0m\u001b[1;33m]\u001b[0m\u001b[1;33m\u001b[0m\u001b[1;33m\u001b[0m\u001b[0m\n",
      "\u001b[1;32md:\\GitHub\\Non-Euclidean-NN\\ff_hyp.py\u001b[0m in \u001b[0;36mforward\u001b[1;34m(self, x)\u001b[0m\n\u001b[0;32m     27\u001b[0m         \u001b[1;31m# x = self.fc2(x)\u001b[0m\u001b[1;33m\u001b[0m\u001b[1;33m\u001b[0m\u001b[1;33m\u001b[0m\u001b[0m\n\u001b[0;32m     28\u001b[0m         \u001b[1;31m# x = ball.expmap0(self.act_fn(ball.logmap0(x)))\u001b[0m\u001b[1;33m\u001b[0m\u001b[1;33m\u001b[0m\u001b[1;33m\u001b[0m\u001b[0m\n\u001b[1;32m---> 29\u001b[1;33m         \u001b[0mx\u001b[0m \u001b[1;33m=\u001b[0m \u001b[0mball\u001b[0m\u001b[1;33m.\u001b[0m\u001b[0mmobius_fn_apply\u001b[0m\u001b[1;33m(\u001b[0m\u001b[0mself\u001b[0m\u001b[1;33m.\u001b[0m\u001b[0mact_fn\u001b[0m\u001b[1;33m,\u001b[0m \u001b[0mself\u001b[0m\u001b[1;33m.\u001b[0m\u001b[0mfc1\u001b[0m\u001b[1;33m(\u001b[0m\u001b[0mx\u001b[0m\u001b[1;33m)\u001b[0m\u001b[1;33m)\u001b[0m\u001b[1;33m\u001b[0m\u001b[1;33m\u001b[0m\u001b[0m\n\u001b[0m\u001b[0;32m     30\u001b[0m         \u001b[0mx\u001b[0m \u001b[1;33m=\u001b[0m \u001b[0mball\u001b[0m\u001b[1;33m.\u001b[0m\u001b[0mmobius_fn_apply\u001b[0m\u001b[1;33m(\u001b[0m\u001b[0mself\u001b[0m\u001b[1;33m.\u001b[0m\u001b[0mact_fn\u001b[0m\u001b[1;33m,\u001b[0m \u001b[0mself\u001b[0m\u001b[1;33m.\u001b[0m\u001b[0mfc2\u001b[0m\u001b[1;33m(\u001b[0m\u001b[0mx\u001b[0m\u001b[1;33m)\u001b[0m\u001b[1;33m)\u001b[0m\u001b[1;33m\u001b[0m\u001b[1;33m\u001b[0m\u001b[0m\n\u001b[0;32m     31\u001b[0m         \u001b[1;31m# x = self.fc1(x)\u001b[0m\u001b[1;33m\u001b[0m\u001b[1;33m\u001b[0m\u001b[1;33m\u001b[0m\u001b[0m\n",
      "\u001b[1;32m~\\AppData\\Roaming\\Python\\Python39\\site-packages\\geoopt\\manifolds\\stereographic\\manifold.py\u001b[0m in \u001b[0;36mmobius_fn_apply\u001b[1;34m(self, fn, x, dim, project, *args, **kwargs)\u001b[0m\n\u001b[0;32m    353\u001b[0m         \u001b[0mself\u001b[0m\u001b[1;33m,\u001b[0m \u001b[0mfn\u001b[0m\u001b[1;33m:\u001b[0m \u001b[0mcallable\u001b[0m\u001b[1;33m,\u001b[0m \u001b[0mx\u001b[0m\u001b[1;33m:\u001b[0m \u001b[0mtorch\u001b[0m\u001b[1;33m.\u001b[0m\u001b[0mTensor\u001b[0m\u001b[1;33m,\u001b[0m \u001b[1;33m*\u001b[0m\u001b[0margs\u001b[0m\u001b[1;33m,\u001b[0m \u001b[0mdim\u001b[0m\u001b[1;33m=\u001b[0m\u001b[1;33m-\u001b[0m\u001b[1;36m1\u001b[0m\u001b[1;33m,\u001b[0m \u001b[0mproject\u001b[0m\u001b[1;33m=\u001b[0m\u001b[1;32mTrue\u001b[0m\u001b[1;33m,\u001b[0m \u001b[1;33m**\u001b[0m\u001b[0mkwargs\u001b[0m\u001b[1;33m\u001b[0m\u001b[1;33m\u001b[0m\u001b[0m\n\u001b[0;32m    354\u001b[0m     ) -> torch.Tensor:\n\u001b[1;32m--> 355\u001b[1;33m         \u001b[0mres\u001b[0m \u001b[1;33m=\u001b[0m \u001b[0mmath\u001b[0m\u001b[1;33m.\u001b[0m\u001b[0mmobius_fn_apply\u001b[0m\u001b[1;33m(\u001b[0m\u001b[0mfn\u001b[0m\u001b[1;33m,\u001b[0m \u001b[0mx\u001b[0m\u001b[1;33m,\u001b[0m \u001b[1;33m*\u001b[0m\u001b[0margs\u001b[0m\u001b[1;33m,\u001b[0m \u001b[0mk\u001b[0m\u001b[1;33m=\u001b[0m\u001b[0mself\u001b[0m\u001b[1;33m.\u001b[0m\u001b[0mk\u001b[0m\u001b[1;33m,\u001b[0m \u001b[0mdim\u001b[0m\u001b[1;33m=\u001b[0m\u001b[0mdim\u001b[0m\u001b[1;33m,\u001b[0m \u001b[1;33m**\u001b[0m\u001b[0mkwargs\u001b[0m\u001b[1;33m)\u001b[0m\u001b[1;33m\u001b[0m\u001b[1;33m\u001b[0m\u001b[0m\n\u001b[0m\u001b[0;32m    356\u001b[0m         \u001b[1;32mif\u001b[0m \u001b[0mproject\u001b[0m\u001b[1;33m:\u001b[0m\u001b[1;33m\u001b[0m\u001b[1;33m\u001b[0m\u001b[0m\n\u001b[0;32m    357\u001b[0m             \u001b[1;32mreturn\u001b[0m \u001b[0mmath\u001b[0m\u001b[1;33m.\u001b[0m\u001b[0mproject\u001b[0m\u001b[1;33m(\u001b[0m\u001b[0mres\u001b[0m\u001b[1;33m,\u001b[0m \u001b[0mk\u001b[0m\u001b[1;33m=\u001b[0m\u001b[0mself\u001b[0m\u001b[1;33m.\u001b[0m\u001b[0mk\u001b[0m\u001b[1;33m,\u001b[0m \u001b[0mdim\u001b[0m\u001b[1;33m=\u001b[0m\u001b[0mdim\u001b[0m\u001b[1;33m)\u001b[0m\u001b[1;33m\u001b[0m\u001b[1;33m\u001b[0m\u001b[0m\n",
      "\u001b[1;32m~\\AppData\\Roaming\\Python\\Python39\\site-packages\\geoopt\\manifolds\\stereographic\\math.py\u001b[0m in \u001b[0;36mmobius_fn_apply\u001b[1;34m(fn, x, k, dim, *args, **kwargs)\u001b[0m\n\u001b[0;32m   1387\u001b[0m         \u001b[0mResult\u001b[0m \u001b[0mof\u001b[0m \u001b[0mfunction\u001b[0m \u001b[1;32min\u001b[0m \u001b[0mhyperbolic\u001b[0m \u001b[0mspace\u001b[0m\u001b[1;33m\u001b[0m\u001b[1;33m\u001b[0m\u001b[0m\n\u001b[0;32m   1388\u001b[0m     \"\"\"\n\u001b[1;32m-> 1389\u001b[1;33m     \u001b[0mex\u001b[0m \u001b[1;33m=\u001b[0m \u001b[0m_logmap0\u001b[0m\u001b[1;33m(\u001b[0m\u001b[0mx\u001b[0m\u001b[1;33m,\u001b[0m \u001b[0mk\u001b[0m\u001b[1;33m,\u001b[0m \u001b[0mdim\u001b[0m\u001b[1;33m=\u001b[0m\u001b[0mdim\u001b[0m\u001b[1;33m)\u001b[0m\u001b[1;33m\u001b[0m\u001b[1;33m\u001b[0m\u001b[0m\n\u001b[0m\u001b[0;32m   1390\u001b[0m     \u001b[0mex\u001b[0m \u001b[1;33m=\u001b[0m \u001b[0mfn\u001b[0m\u001b[1;33m(\u001b[0m\u001b[0mex\u001b[0m\u001b[1;33m,\u001b[0m \u001b[1;33m*\u001b[0m\u001b[0margs\u001b[0m\u001b[1;33m,\u001b[0m \u001b[1;33m**\u001b[0m\u001b[0mkwargs\u001b[0m\u001b[1;33m)\u001b[0m\u001b[1;33m\u001b[0m\u001b[1;33m\u001b[0m\u001b[0m\n\u001b[0;32m   1391\u001b[0m     \u001b[0my\u001b[0m \u001b[1;33m=\u001b[0m \u001b[0m_expmap0\u001b[0m\u001b[1;33m(\u001b[0m\u001b[0mex\u001b[0m\u001b[1;33m,\u001b[0m \u001b[0mk\u001b[0m\u001b[1;33m,\u001b[0m \u001b[0mdim\u001b[0m\u001b[1;33m=\u001b[0m\u001b[0mdim\u001b[0m\u001b[1;33m)\u001b[0m\u001b[1;33m\u001b[0m\u001b[1;33m\u001b[0m\u001b[0m\n",
      "\u001b[1;31mKeyboardInterrupt\u001b[0m: "
     ]
    }
   ],
   "source": [
    "correct_count, all_count = 0, 0\n",
    "for images,labels in valloader:\n",
    "  images, labels = images.to(device), labels.to(device)\n",
    "  for i in range(len(labels)):\n",
    "    img = 0.0357*images[i].view(1, 784)\n",
    "    with torch.no_grad():\n",
    "        out = model(img)\n",
    "\n",
    "    \n",
    "    ps = out.cpu()\n",
    "    probab = list(ps.numpy()[0])\n",
    "    pred_label = probab.index(max(probab))\n",
    "    true_label = labels.cpu().numpy()[i]\n",
    "    if(true_label == pred_label):\n",
    "      correct_count += 1\n",
    "    all_count += 1\n",
    "\n",
    "print(\"Number Of Images Tested =\", all_count)\n",
    "print(\"\\nModel Accuracy =\", (correct_count/all_count))"
   ]
  },
  {
   "cell_type": "markdown",
   "metadata": {},
   "source": [
    "Current status of experiments:\n",
    "1. Using just Hyperboic Linear modules, and with the appropriate self-tuned hyperparameters, and a batch size of 512, the average accuracy was around 90 percent\n",
    "2. With the use of activation functions(ReLu, ReLu, then LogSoftMax at the output layer), (by applying the functions in the tangent space, then mapping it back to the hyperbolic space), we see an increase in the model accuracy to about 97-98 percent.\n",
    "3. To account for the correct class probabilities , linear layer was used as the output layer instead, together with the crossentropy loss function."
   ]
  },
  {
   "cell_type": "code",
   "execution_count": null,
   "metadata": {},
   "outputs": [],
   "source": []
  }
 ],
 "metadata": {
  "interpreter": {
   "hash": "2454a3adb90052121e3433f22c2e288f84a7f03217a2a46086941be12932708b"
  },
  "kernelspec": {
   "display_name": "Python 3.9.6 64-bit",
   "name": "python3"
  },
  "language_info": {
   "codemirror_mode": {
    "name": "ipython",
    "version": 3
   },
   "file_extension": ".py",
   "mimetype": "text/x-python",
   "name": "python",
   "nbconvert_exporter": "python",
   "pygments_lexer": "ipython3",
   "version": "3.9.6"
  },
  "orig_nbformat": 4
 },
 "nbformat": 4,
 "nbformat_minor": 2
}
