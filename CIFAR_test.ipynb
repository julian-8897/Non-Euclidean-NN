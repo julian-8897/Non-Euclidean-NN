{
    "cells": [
        {
            "cell_type": "markdown",
            "source": [
                "Imports"
            ],
            "metadata": {}
        },
        {
            "cell_type": "code",
            "execution_count": 10,
            "source": [
                "import feed_forward\r\n",
                "import feed_forward_EUCL\r\n",
                "import numpy as np\r\n",
                "import matplotlib.pyplot as plt\r\n",
                "import torch\r\n",
                "import torch.nn as nn\r\n",
                "import torch.optim as optim\r\n",
                "import torchvision\r\n",
                "import geoopt\r\n",
                "from time import time\r\n",
                "from torchvision import datasets, transforms\r\n",
                "torch.cuda.is_available()"
            ],
            "outputs": [
                {
                    "output_type": "execute_result",
                    "data": {
                        "text/plain": [
                            "True"
                        ]
                    },
                    "metadata": {},
                    "execution_count": 10
                }
            ],
            "metadata": {}
        },
        {
            "cell_type": "markdown",
            "source": [
                "CUDA check"
            ],
            "metadata": {}
        },
        {
            "cell_type": "code",
            "execution_count": 11,
            "source": [
                "device = torch.device('cuda' if torch.cuda.is_available() else 'cpu')\r\n",
                "device"
            ],
            "outputs": [
                {
                    "output_type": "execute_result",
                    "data": {
                        "text/plain": [
                            "device(type='cuda')"
                        ]
                    },
                    "metadata": {},
                    "execution_count": 11
                }
            ],
            "metadata": {}
        },
        {
            "cell_type": "code",
            "execution_count": 12,
            "source": [
                "transform = transforms.Compose([transforms.ToTensor(), \r\n",
                "                                transforms.Normalize((0.4915, 0.4823, 0.4468), (0.2470, 0.2435, 0.2616))\r\n",
                "                                ])"
            ],
            "outputs": [],
            "metadata": {}
        },
        {
            "cell_type": "code",
            "execution_count": 13,
            "source": [
                "trainset = datasets.CIFAR10('PATH_TO_STORE_TRAINSET', download=True, train=True, transform=transform)\r\n",
                "valset = datasets.CIFAR10('PATH_TO_STORE_TESTSET', download=True, train=False, transform=transform)"
            ],
            "outputs": [
                {
                    "output_type": "stream",
                    "name": "stdout",
                    "text": [
                        "Files already downloaded and verified\n",
                        "Files already downloaded and verified\n"
                    ]
                }
            ],
            "metadata": {}
        },
        {
            "cell_type": "code",
            "execution_count": 14,
            "source": [
                "label_map = {0: 0, 2: 1}\r\n",
                "#ball = geoopt.PoincareBall()\r\n",
                "class_names = ['airplane', 'bird']\r\n",
                "cifar2 = [(img, label_map[label]) for img, label in trainset if label in [0, 2]]\r\n",
                "cifar2_val = [(img, label_map[label]) for img, label in valset if label in [0, 2]]\r\n",
                "\r\n",
                "trainloader = torch.utils.data.DataLoader(cifar2, batch_size=512, shuffle=True)\r\n",
                "valloader = torch.utils.data.DataLoader(cifar2_val, batch_size=512, shuffle=False)"
            ],
            "outputs": [],
            "metadata": {}
        },
        {
            "cell_type": "markdown",
            "source": [
                "Initializing the model"
            ],
            "metadata": {}
        },
        {
            "cell_type": "code",
            "execution_count": 15,
            "source": [
                "model = feed_forward_EUCL.EuclFF(3072, 512, 256, 2, nn.ReLU())\r\n",
                "model"
            ],
            "outputs": [
                {
                    "output_type": "execute_result",
                    "data": {
                        "text/plain": [
                            "EuclFF(\n",
                            "  (act_fn): ReLU()\n",
                            "  (fc1): Linear(in_features=3072, out_features=512, bias=True)\n",
                            "  (fc2): Linear(in_features=512, out_features=256, bias=True)\n",
                            "  (fc3): Linear(in_features=256, out_features=2, bias=True)\n",
                            ")"
                        ]
                    },
                    "metadata": {},
                    "execution_count": 15
                }
            ],
            "metadata": {}
        },
        {
            "cell_type": "code",
            "execution_count": 16,
            "source": [
                "learning_rate = 1e-2\r\n",
                "momentum = 0.9"
            ],
            "outputs": [],
            "metadata": {}
        },
        {
            "cell_type": "code",
            "execution_count": 17,
            "source": [
                "optimizer = optim.SGD(model.parameters(), \r\n",
                "                                       lr=learning_rate)\r\n",
                "#optimizer = optim.SGD(model.parameters(), lr=learning_rate, momentum=momentum)\r\n",
                "loss_fn = nn.CrossEntropyLoss()"
            ],
            "outputs": [],
            "metadata": {}
        },
        {
            "cell_type": "code",
            "execution_count": 20,
            "source": [
                "n_epochs = 50\r\n",
                "for epoch in range(n_epochs):\r\n",
                "    for imgs, labels in trainloader:\r\n",
                "        # img, label = img.to(device), label.to(device)\r\n",
                "        batch_size = imgs.shape[0]\r\n",
                "        out = model(imgs.view(batch_size, -1))\r\n",
                "        loss = loss_fn(out, labels)\r\n",
                "        optimizer.zero_grad()\r\n",
                "        loss.backward()\r\n",
                "        optimizer.step()\r\n",
                "    print(\"Epoch: %d, Loss: %f\" % (epoch, float(loss)))"
            ],
            "outputs": [
                {
                    "output_type": "stream",
                    "name": "stdout",
                    "text": [
                        "Epoch: 0, Loss: 0.410966\n",
                        "Epoch: 1, Loss: 0.407343\n",
                        "Epoch: 2, Loss: 0.380282\n",
                        "Epoch: 3, Loss: 0.415904\n",
                        "Epoch: 4, Loss: 0.306867\n",
                        "Epoch: 5, Loss: 0.403170\n",
                        "Epoch: 6, Loss: 0.381865\n",
                        "Epoch: 7, Loss: 0.384968\n",
                        "Epoch: 8, Loss: 0.344673\n",
                        "Epoch: 9, Loss: 0.352055\n",
                        "Epoch: 10, Loss: 0.404371\n",
                        "Epoch: 11, Loss: 0.366717\n",
                        "Epoch: 12, Loss: 0.403333\n",
                        "Epoch: 13, Loss: 0.351317\n",
                        "Epoch: 14, Loss: 0.362640\n",
                        "Epoch: 15, Loss: 0.343391\n",
                        "Epoch: 16, Loss: 0.360022\n",
                        "Epoch: 17, Loss: 0.368846\n",
                        "Epoch: 18, Loss: 0.298399\n",
                        "Epoch: 19, Loss: 0.359380\n",
                        "Epoch: 20, Loss: 0.321772\n",
                        "Epoch: 21, Loss: 0.332463\n",
                        "Epoch: 22, Loss: 0.291861\n",
                        "Epoch: 23, Loss: 0.332517\n",
                        "Epoch: 24, Loss: 0.341349\n",
                        "Epoch: 25, Loss: 0.269235\n",
                        "Epoch: 26, Loss: 0.308508\n",
                        "Epoch: 27, Loss: 0.298624\n",
                        "Epoch: 28, Loss: 0.274251\n",
                        "Epoch: 29, Loss: 0.275225\n",
                        "Epoch: 30, Loss: 0.323891\n",
                        "Epoch: 31, Loss: 0.299362\n",
                        "Epoch: 32, Loss: 0.329596\n",
                        "Epoch: 33, Loss: 0.241542\n",
                        "Epoch: 34, Loss: 0.321639\n",
                        "Epoch: 35, Loss: 0.258792\n",
                        "Epoch: 36, Loss: 0.288958\n",
                        "Epoch: 37, Loss: 0.273830\n",
                        "Epoch: 38, Loss: 0.325579\n",
                        "Epoch: 39, Loss: 0.273048\n",
                        "Epoch: 40, Loss: 0.272412\n",
                        "Epoch: 41, Loss: 0.246063\n",
                        "Epoch: 42, Loss: 0.267706\n",
                        "Epoch: 43, Loss: 0.236080\n",
                        "Epoch: 44, Loss: 0.296336\n",
                        "Epoch: 45, Loss: 0.307136\n",
                        "Epoch: 46, Loss: 0.312309\n",
                        "Epoch: 47, Loss: 0.279544\n",
                        "Epoch: 48, Loss: 0.261164\n",
                        "Epoch: 49, Loss: 0.290982\n"
                    ]
                }
            ],
            "metadata": {}
        },
        {
            "cell_type": "code",
            "execution_count": 30,
            "source": [
                "correct = 0\r\n",
                "total = 0\r\n",
                "\r\n",
                "with torch.no_grad():\r\n",
                "    for imgs, labels in valloader:\r\n",
                "        batch_size = imgs.shape[0]\r\n",
                "        outputs = model(imgs.view(batch_size, -1))\r\n",
                "        _, predicted = torch.max(outputs, dim=1)\r\n",
                "        total += labels.shape[0]\r\n",
                "        correct += int((predicted == labels).sum())\r\n",
                "        \r\n",
                "print(\"Accuracy: %f\", correct / total)"
            ],
            "outputs": [
                {
                    "output_type": "stream",
                    "name": "stdout",
                    "text": [
                        "Accuracy: %f 0.859\n"
                    ]
                }
            ],
            "metadata": {}
        }
    ],
    "metadata": {
        "orig_nbformat": 4,
        "language_info": {
            "name": "python",
            "version": "3.9.6",
            "mimetype": "text/x-python",
            "codemirror_mode": {
                "name": "ipython",
                "version": 3
            },
            "pygments_lexer": "ipython3",
            "nbconvert_exporter": "python",
            "file_extension": ".py"
        },
        "kernelspec": {
            "name": "python3",
            "display_name": "Python 3.9.6 64-bit"
        },
        "interpreter": {
            "hash": "e00c480ae7e3d5e7171f38ea6fedffbe731b8808f4aa360dec46acf6f1daf018"
        }
    },
    "nbformat": 4,
    "nbformat_minor": 2
}