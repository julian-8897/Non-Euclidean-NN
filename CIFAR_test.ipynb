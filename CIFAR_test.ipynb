{
    "cells": [
        {
            "cell_type": "markdown",
            "metadata": {},
            "source": [
                "Imports"
            ]
        },
        {
            "cell_type": "code",
            "execution_count": 11,
            "metadata": {},
            "outputs": [],
            "source": [
                "#from models import ff_hyp, ff_eucl\n",
                "import ff_hyp\n",
                "import numpy as np\n",
                "import matplotlib.pyplot as plt\n",
                "import torch\n",
                "import torch.nn as nn\n",
                "import torch.optim as optim\n",
                "import torchvision\n",
                "import geoopt\n",
                "from time import time\n",
                "from torchvision import datasets, transforms\n",
                "torch.cuda.is_available()\n",
                "\n",
                "#Disable Debugging APIs\n",
                "torch.autograd.set_detect_anomaly(False)\n",
                "torch.autograd.profiler.profile(False)\n",
                "torch.autograd.profiler.emit_nvtx(False)\n",
                "\n",
                "#cuDNN Autotuner\n",
                "torch.backends.cudnn.benchmark = True"
            ]
        },
        {
            "cell_type": "markdown",
            "metadata": {},
            "source": [
                "CUDA check"
            ]
        },
        {
            "cell_type": "code",
            "execution_count": 12,
            "metadata": {},
            "outputs": [
                {
                    "data": {
                        "text/plain": [
                            "device(type='cpu')"
                        ]
                    },
                    "execution_count": 12,
                    "metadata": {},
                    "output_type": "execute_result"
                }
            ],
            "source": [
                "device = torch.device('cuda' if torch.cuda.is_available() else 'cpu')\n",
                "device"
            ]
        },
        {
            "cell_type": "code",
            "execution_count": 13,
            "metadata": {},
            "outputs": [],
            "source": [
                "transform = transforms.Compose([transforms.Grayscale(num_output_channels=3),\n",
                "                                transforms.ToTensor(), \n",
                "                                #transforms.Normalize((0.4915, 0.4823, 0.4468), (0.2470, 0.2435, 0.2616))\n",
                "                                ])"
            ]
        },
        {
            "cell_type": "code",
            "execution_count": 14,
            "metadata": {},
            "outputs": [
                {
                    "name": "stdout",
                    "output_type": "stream",
                    "text": [
                        "Files already downloaded and verified\n",
                        "Files already downloaded and verified\n"
                    ]
                }
            ],
            "source": [
                "trainset = datasets.CIFAR10('PATH_TO_STORE_TRAINSET', download=True, train=True, transform=transform)\n",
                "valset = datasets.CIFAR10('PATH_TO_STORE_TESTSET', download=True, train=False, transform=transform)"
            ]
        },
        {
            "cell_type": "code",
            "execution_count": 15,
            "metadata": {},
            "outputs": [],
            "source": [
                "label_map = {0: 0, 5: 1}\n",
                "class_names = ['airplane', 'dog']\n",
                "cifar2 = [(img, label_map[label]) for img, label in trainset if label in [0, 5]]\n",
                "cifar2_val = [(img, label_map[label]) for img, label in valset if label in [0, 5]]\n",
                "\n",
                "trainloader = torch.utils.data.DataLoader(cifar2, batch_size=512, shuffle=True)\n",
                "valloader = torch.utils.data.DataLoader(cifar2_val, batch_size=512, shuffle=False)"
            ]
        },
        {
            "cell_type": "code",
            "execution_count": 16,
            "metadata": {},
            "outputs": [],
            "source": [
                "# img_ex, label_ex = cifar2[7]\n",
                "# plt.imshow(img_ex)\n",
                "# plt.show()\n",
                "\n",
                "# len(cifar2_val)"
            ]
        },
        {
            "cell_type": "markdown",
            "metadata": {},
            "source": [
                "Initializing the model"
            ]
        },
        {
            "cell_type": "code",
            "execution_count": 17,
            "metadata": {},
            "outputs": [
                {
                    "data": {
                        "text/plain": [
                            "HypFF(\n",
                            "  (act_fn): ReLU()\n",
                            "  (fc1): MobLinear(in_features=3072, out_features=512, bias=True)\n",
                            "  (fc2): MobLinear(in_features=512, out_features=256, bias=True)\n",
                            "  (fc3): MobLinear(in_features=256, out_features=2, bias=True)\n",
                            ")"
                        ]
                    },
                    "execution_count": 17,
                    "metadata": {},
                    "output_type": "execute_result"
                }
            ],
            "source": [
                "model = ff_hyp.HypFF(3072, 512, 256, 2)\n",
                "model"
            ]
        },
        {
            "cell_type": "code",
            "execution_count": 18,
            "metadata": {},
            "outputs": [],
            "source": [
                "learning_rate = 0.01\n",
                "momentum = 0.9"
            ]
        },
        {
            "cell_type": "code",
            "execution_count": 19,
            "metadata": {},
            "outputs": [],
            "source": [
                "optimizer = geoopt.optim.RiemannianSGD(model.parameters(), \n",
                "                                       lr=learning_rate, momentum=momentum)\n",
                "#optimizer = optim.SGD(model.parameters(), lr=learning_rate, momentum=momentum)\n",
                "loss_fn = nn.CrossEntropyLoss()"
            ]
        },
        {
            "cell_type": "code",
            "execution_count": 20,
            "metadata": {},
            "outputs": [
                {
                    "name": "stdout",
                    "output_type": "stream",
                    "text": [
                        "Epoch: 0, Loss: 0.693140\n",
                        "Epoch: 1, Loss: 0.693151\n",
                        "Epoch: 2, Loss: 0.692681\n",
                        "Epoch: 3, Loss: 0.692654\n",
                        "Epoch: 4, Loss: 0.692029\n",
                        "Epoch: 5, Loss: 0.691170\n",
                        "Epoch: 6, Loss: 0.690425\n",
                        "Epoch: 7, Loss: 0.687798\n",
                        "Epoch: 8, Loss: 0.685361\n",
                        "Epoch: 9, Loss: 0.679145\n",
                        "Epoch: 10, Loss: 0.667715\n",
                        "Epoch: 11, Loss: 0.656604\n",
                        "Epoch: 12, Loss: 0.627342\n",
                        "Epoch: 13, Loss: 0.624975\n",
                        "Epoch: 14, Loss: 0.599746\n"
                    ]
                }
            ],
            "source": [
                "n_epochs = 15\n",
                "for epoch in range(n_epochs):\n",
                "    for imgs, labels in trainloader:\n",
                "        # img, label = img.to(device), label.to(device)\n",
                "        batch_size = imgs.shape[0]\n",
                "        out = model(imgs.view(batch_size, -1))\n",
                "        loss = loss_fn(out, labels)\n",
                "        optimizer.zero_grad()\n",
                "        loss.backward()\n",
                "        optimizer.step()\n",
                "    print(\"Epoch: %d, Loss: %f\" % (epoch, float(loss)))"
            ]
        },
        {
            "cell_type": "code",
            "execution_count": 32,
            "metadata": {},
            "outputs": [
                {
                    "name": "stdout",
                    "output_type": "stream",
                    "text": [
                        "Accuracy: %f 0.7125\n"
                    ]
                }
            ],
            "source": [
                "correct = 0\n",
                "total = 0\n",
                "\n",
                "with torch.no_grad():\n",
                "    for imgs, labels in valloader:\n",
                "        batch_size = imgs.shape[0]\n",
                "        outputs = model(imgs.view(batch_size, -1))\n",
                "        _, predicted = torch.max(outputs, dim=1)\n",
                "        total += labels.shape[0]\n",
                "        correct += int((predicted == labels).sum())\n",
                "        \n",
                "print(\"Accuracy: %f\", correct / total)"
            ]
        }
    ],
    "metadata": {
        "interpreter": {
            "hash": "2454a3adb90052121e3433f22c2e288f84a7f03217a2a46086941be12932708b"
        },
        "kernelspec": {
            "display_name": "Python 3.9.6 64-bit",
            "name": "python3"
        },
        "language_info": {
            "codemirror_mode": {
                "name": "ipython",
                "version": 3
            },
            "file_extension": ".py",
            "mimetype": "text/x-python",
            "name": "python",
            "nbconvert_exporter": "python",
            "pygments_lexer": "ipython3",
            "version": "3.9.6"
        },
        "orig_nbformat": 4
    },
    "nbformat": 4,
    "nbformat_minor": 2
}
