{
 "metadata": {
  "language_info": {
   "codemirror_mode": {
    "name": "ipython",
    "version": 3
   },
   "file_extension": ".py",
   "mimetype": "text/x-python",
   "name": "python",
   "nbconvert_exporter": "python",
   "pygments_lexer": "ipython3",
   "version": "3.9.6"
  },
  "orig_nbformat": 4,
  "kernelspec": {
   "name": "python3",
   "display_name": "Python 3.9.6 64-bit"
  },
  "interpreter": {
   "hash": "2454a3adb90052121e3433f22c2e288f84a7f03217a2a46086941be12932708b"
  }
 },
 "nbformat": 4,
 "nbformat_minor": 2,
 "cells": [
  {
   "cell_type": "markdown",
   "source": [
    "Imports"
   ],
   "metadata": {}
  },
  {
   "cell_type": "code",
   "execution_count": 57,
   "source": [
    "from models import ff_eucl, ff_hyp\r\n",
    "import numpy as np\r\n",
    "import matplotlib.pyplot as plt\r\n",
    "import torch\r\n",
    "import torch.nn as nn\r\n",
    "import torch.optim as optim\r\n",
    "import torchvision\r\n",
    "import geoopt\r\n",
    "from time import time\r\n",
    "from torchvision import datasets, transforms\r\n",
    "from torch.utils.tensorboard import SummaryWriter\r\n",
    "import helper\r\n",
    "torch.cuda.is_available()"
   ],
   "outputs": [
    {
     "output_type": "execute_result",
     "data": {
      "text/plain": [
       "False"
      ]
     },
     "metadata": {},
     "execution_count": 57
    }
   ],
   "metadata": {}
  },
  {
   "cell_type": "markdown",
   "source": [
    "CUDA check"
   ],
   "metadata": {}
  },
  {
   "cell_type": "code",
   "execution_count": 58,
   "source": [
    "device = torch.device('cuda' if torch.cuda.is_available() else 'cpu')\r\n",
    "print('Using {}'.format(device))"
   ],
   "outputs": [
    {
     "output_type": "stream",
     "name": "stdout",
     "text": [
      "Using cpu\n"
     ]
    }
   ],
   "metadata": {}
  },
  {
   "cell_type": "markdown",
   "source": [
    "Data Transformation"
   ],
   "metadata": {}
  },
  {
   "cell_type": "code",
   "execution_count": 59,
   "source": [
    "transform = transforms.Compose([transforms.ToTensor(),\r\n",
    "                                #transforms.Normalize((0.1307,), (0.3081,)), \r\n",
    "                              ])"
   ],
   "outputs": [],
   "metadata": {}
  },
  {
   "cell_type": "markdown",
   "source": [
    "Training and Test data from MNIST data set"
   ],
   "metadata": {}
  },
  {
   "cell_type": "code",
   "execution_count": 60,
   "source": [
    "train_set = datasets.MNIST('PATH_TO_STORE_TRAINSET', download=True, train=True, transform=transform)\r\n",
    "test_set = datasets.MNIST('PATH_TO_STORE_TESTSET', download=True, train=False, transform=transform)\r\n",
    "\r\n",
    "size = len(train_set)\r\n",
    "print(size)\r\n",
    "\r\n",
    "train_data, val_data = torch.utils.data.random_split(train_set, [int(size-size*0.2), int(size*0.2)])\r\n",
    "\r\n",
    "# trainloader = torch.utils.data.DataLoader(train_data, batch_size=512, shuffle=True)\r\n",
    "# valloader = torch.utils.data.DataLoader(val_data, batch_size=512, shuffle= True)\r\n",
    "testloader = torch.utils.data.DataLoader(test_set, batch_size=512, shuffle= True)"
   ],
   "outputs": [
    {
     "output_type": "stream",
     "name": "stdout",
     "text": [
      "60000\n"
     ]
    }
   ],
   "metadata": {}
  },
  {
   "cell_type": "markdown",
   "source": [
    "Initializing the model"
   ],
   "metadata": {}
  },
  {
   "cell_type": "code",
   "execution_count": 61,
   "source": [
    "# model = ff_eucl.EuclFF(784, 512, 256, 10, nn.ReLU())\r\n",
    "# ball = geoopt.PoincareBall()\r\n",
    "# images, labels = next(iter(trainloader))\r\n",
    "# images = images.view(images.shape[0], -1)\r\n",
    "# grid = torchvision.utils.make_grid(images)\r\n",
    "# tb = SummaryWriter()\r\n",
    "# tb.add_image(\"images\", grid)\r\n",
    "# tb.add_graph(model, images)\r\n",
    "# model.to(device)"
   ],
   "outputs": [],
   "metadata": {}
  },
  {
   "cell_type": "markdown",
   "source": [
    "Hyperparameters"
   ],
   "metadata": {}
  },
  {
   "cell_type": "code",
   "execution_count": 62,
   "source": [
    "\r\n",
    "# learning_rate = 4e-1 #learning rate for ReLU activation function\r\n",
    "# #learning_rate = 2e-1 #current learning rate for model without activation functions\r\n",
    "# momentum = 0.9\r\n",
    "# weight_decay = 5e-4"
   ],
   "outputs": [],
   "metadata": {}
  },
  {
   "cell_type": "code",
   "execution_count": 63,
   "source": [
    "from itertools import product\r\n",
    "parameters = dict(\r\n",
    "    lr = [0.1, 0.01, 0.001],\r\n",
    "    batch_size = [64,128,256,512],\r\n",
    "    shuffle = [True, False]\r\n",
    ")\r\n",
    "\r\n",
    "param_values = [v for v in parameters.values()]\r\n",
    "print(param_values)\r\n",
    "\r\n",
    "for lr,batch_size, shuffle in product(*param_values):\r\n",
    "    print(lr, batch_size, shuffle)"
   ],
   "outputs": [
    {
     "output_type": "stream",
     "name": "stdout",
     "text": [
      "[[0.01, 0.001], [32, 64, 128], [True, False]]\n",
      "0.01 32 True\n",
      "0.01 32 False\n",
      "0.01 64 True\n",
      "0.01 64 False\n",
      "0.01 128 True\n",
      "0.01 128 False\n",
      "0.001 32 True\n",
      "0.001 32 False\n",
      "0.001 64 True\n",
      "0.001 64 False\n",
      "0.001 128 True\n",
      "0.001 128 False\n"
     ]
    }
   ],
   "metadata": {}
  },
  {
   "cell_type": "markdown",
   "source": [
    "Loss Function"
   ],
   "metadata": {}
  },
  {
   "cell_type": "code",
   "execution_count": 64,
   "source": [
    "#criterion = nn.CrossEntropyLoss()\r\n",
    "# #criterion = nn.NLLLoss()\r\n",
    "# images, labels = next(iter(trainloader))\r\n",
    "# images, labels = images.to(device), labels.to(device)\r\n",
    "# images = 0.0357*images.view(images.shape[0], -1)\r\n",
    "# print(images)\r\n",
    "\r\n",
    "# out = model(images) #output\r\n",
    "# print(out)\r\n",
    "# loss = criterion(out, labels) #calculate the loss"
   ],
   "outputs": [],
   "metadata": {}
  },
  {
   "cell_type": "markdown",
   "source": [
    "Optimizer"
   ],
   "metadata": {}
  },
  {
   "cell_type": "code",
   "execution_count": 65,
   "source": [
    "#optimizer = geoopt.optim.RiemannianSGD(model.parameters(), lr=learning_rate, momentum=momentum)\r\n",
    "#optimizer = optim.SGD(model.parameters(), lr=learning_rate, momentum=momentum, weight_decay=weight_decay)"
   ],
   "outputs": [],
   "metadata": {}
  },
  {
   "cell_type": "code",
   "execution_count": 66,
   "source": [
    "def get_num_correct(preds, labels):\r\n",
    "    return preds.argmax(dim=1).eq(labels).sum().item()"
   ],
   "outputs": [],
   "metadata": {}
  },
  {
   "cell_type": "code",
   "execution_count": 67,
   "source": [
    "for run_id, (lr,batch_size, shuffle) in enumerate(product(*param_values)):\r\n",
    "    print(\"run id:\", run_id + 1)\r\n",
    "    model = ff_eucl.EuclFF(784, 512, 256, 10, nn.ReLU())\r\n",
    "    trainloader = torch.utils.data.DataLoader(train_data,batch_size = batch_size, shuffle = shuffle)\r\n",
    "    valloader = torch.utils.data.DataLoader(val_data, batch_size=batch_size, shuffle= shuffle)\r\n",
    "    optimizer = optim.SGD(model.parameters(), lr=lr)\r\n",
    "    criterion = torch.nn.CrossEntropyLoss()\r\n",
    "    comment = f' batch_size = {batch_size} lr = {lr} shuffle = {shuffle}'\r\n",
    "    tb = SummaryWriter(comment=comment)\r\n",
    "# time0 = time()\r\n",
    "    epochs = 10\r\n",
    "    for epoch in range(epochs):\r\n",
    "        model.train()\r\n",
    "        train_loss = 0\r\n",
    "        total_correct = 0\r\n",
    "        for images, labels in trainloader:\r\n",
    "            images, labels = images.to(device), labels.to(device)\r\n",
    "            # Flatten MNIST images into a 784 long vector\r\n",
    "            images = images.view(images.shape[0], -1)\r\n",
    "            #images = ball.projx(images.view(images.shape[0], -1))\r\n",
    "            # Training pass\r\n",
    "            optimizer.zero_grad()\r\n",
    "            output = model(images)\r\n",
    "            loss = criterion(output, labels)  \r\n",
    "            train_loss += loss.item()\r\n",
    "            total_correct += get_num_correct(output, labels)\r\n",
    "            #backpropagation\r\n",
    "            loss.backward()      \r\n",
    "            #Weight optimization\r\n",
    "            optimizer.step()  \r\n",
    "\r\n",
    "        val_loss = 0\r\n",
    "        val_correct = 0\r\n",
    "        model.eval()\r\n",
    "        for  images, labels in valloader:\r\n",
    "            images, labels = images.to(device), labels.to(device)\r\n",
    "            # Flatten MNIST images into a 784 long vector\r\n",
    "            images = images.view(images.shape[0], -1)\r\n",
    "            #images = ball.projx(images.view(images.shape[0], -1))\r\n",
    "            output = model(images)\r\n",
    "            loss = criterion(output, labels)  \r\n",
    "            val_loss += loss.item()\r\n",
    "            val_correct += get_num_correct(output, labels)\r\n",
    "            \r\n",
    "        tb.add_scalar(\"Training Loss\", train_loss, epoch)\r\n",
    "        tb.add_scalar(\"Validation Loss\", val_loss, epoch)\r\n",
    "        tb.add_scalar(\"Training Accuracy\", total_correct/len(train_data), epoch)\r\n",
    "        tb.add_scalar(\"Validation Accuracy\", val_correct/len(val_data), epoch)\r\n",
    "\r\n",
    "        print(\"epoch:\", epoch, \"training loss:\",train_loss, \"validation loss:\", val_loss,\r\n",
    "        \"training accuracy:\", total_correct/len(train_data), \"validation accuracy:\", val_correct/len(val_data))\r\n",
    "    \r\n",
    "    tb.add_hparams(\r\n",
    "            {\"lr\": lr, \"bsize\": batch_size, \"shuffle\":shuffle},\r\n",
    "            {\r\n",
    "                \"training accuracy\": total_correct/ len(train_data),\r\n",
    "                \"validation accuracy\": val_correct/ len(val_data),\r\n",
    "                \"training loss\": train_loss,\r\n",
    "                \"validation loss\": val_loss,\r\n",
    "            },\r\n",
    "        )\r\n",
    "tb.close()\r\n",
    "#     else:\r\n",
    "#         print(\"Epoch {} - Training loss: {}\".format(e, running_loss/len(trainloader)))\r\n",
    "# print(\"\\nTraining Time (in minutes) =\",(time()-time0)/60)"
   ],
   "outputs": [
    {
     "output_type": "stream",
     "name": "stdout",
     "text": [
      "run id: 1\n",
      "epoch: 0 training loss: 1789.9757485687733 validation loss: 179.70880576968193 training accuracy: 0.7256458333333333 validation accuracy: 0.8701666666666666\n",
      "epoch: 1 training loss: 584.6666019707918 validation loss: 132.52207375317812 training accuracy: 0.8904166666666666 validation accuracy: 0.899\n",
      "epoch: 2 training loss: 477.6259970664978 validation loss: 118.41342249512672 training accuracy: 0.9091666666666667 validation accuracy: 0.91075\n",
      "epoch: 3 training loss: 421.40932697430253 validation loss: 105.22179204970598 training accuracy: 0.9198125 validation accuracy: 0.9196666666666666\n",
      "epoch: 4 training loss: 376.2325002383441 validation loss: 95.60663674771786 training accuracy: 0.9276041666666667 validation accuracy: 0.92725\n",
      "epoch: 5 training loss: 337.9848978854716 validation loss: 89.10760646872222 training accuracy: 0.9350416666666667 validation accuracy: 0.9318333333333333\n",
      "epoch: 6 training loss: 304.77749324962497 validation loss: 80.79697088524699 training accuracy: 0.9412708333333333 validation accuracy: 0.93875\n",
      "epoch: 7 training loss: 277.0459586754441 validation loss: 76.2732372134924 training accuracy: 0.9471458333333334 validation accuracy: 0.9430833333333334\n",
      "epoch: 8 training loss: 251.8912728819996 validation loss: 71.05135322269052 training accuracy: 0.9525625 validation accuracy: 0.9465\n",
      "epoch: 9 training loss: 230.60433083865792 validation loss: 66.70173094794154 training accuracy: 0.9552291666666667 validation accuracy: 0.949\n",
      "run id: 2\n",
      "epoch: 0 training loss: 1859.417372316122 validation loss: 180.6305505335331 training accuracy: 0.7232708333333333 validation accuracy: 0.8701666666666666\n",
      "epoch: 1 training loss: 587.007077537477 validation loss: 133.29481637477875 training accuracy: 0.8908541666666666 validation accuracy: 0.8989166666666667\n",
      "epoch: 2 training loss: 474.5509790852666 validation loss: 116.78394085168839 training accuracy: 0.9100416666666666 validation accuracy: 0.9123333333333333\n",
      "epoch: 3 training loss: 416.31326319277287 validation loss: 105.35968861356378 training accuracy: 0.9198541666666666 validation accuracy: 0.91925\n",
      "epoch: 4 training loss: 371.7456851154566 validation loss: 96.00993698835373 training accuracy: 0.9289791666666667 validation accuracy: 0.9264166666666667\n",
      "epoch: 5 training loss: 334.0674991123378 validation loss: 88.15688264369965 training accuracy: 0.936625 validation accuracy: 0.9330833333333334\n",
      "epoch: 6 training loss: 301.81736669130623 validation loss: 81.46772740781307 training accuracy: 0.9425 validation accuracy: 0.9378333333333333\n",
      "epoch: 7 training loss: 274.15767067391425 validation loss: 75.77780026197433 training accuracy: 0.9475833333333333 validation accuracy: 0.9423333333333334\n",
      "epoch: 8 training loss: 250.36196308769286 validation loss: 70.910075975582 training accuracy: 0.9520208333333333 validation accuracy: 0.94525\n",
      "epoch: 9 training loss: 229.81520945951343 validation loss: 66.71262933500111 training accuracy: 0.956 validation accuracy: 0.9489166666666666\n",
      "run id: 3\n",
      "epoch: 0 training loss: 1338.266477882862 validation loss: 170.68680387735367 training accuracy: 0.6099791666666666 validation accuracy: 0.7990833333333334\n",
      "epoch: 1 training loss: 458.88846734166145 validation loss: 89.58528776466846 training accuracy: 0.8472083333333333 validation accuracy: 0.8735833333333334\n",
      "epoch: 2 training loss: 312.16993598639965 validation loss: 73.61873808503151 training accuracy: 0.8857916666666666 validation accuracy: 0.8906666666666667\n",
      "epoch: 3 training loss: 268.0861338824034 validation loss: 66.59128795564175 training accuracy: 0.8996875 validation accuracy: 0.9008333333333334\n",
      "epoch: 4 training loss: 243.35693764686584 validation loss: 61.3885650113225 training accuracy: 0.9082708333333334 validation accuracy: 0.9095833333333333\n",
      "epoch: 5 training loss: 226.03915709257126 validation loss: 57.75950627774 training accuracy: 0.9142291666666666 validation accuracy: 0.9126666666666666\n",
      "epoch: 6 training loss: 211.8474089205265 validation loss: 54.528173848986626 training accuracy: 0.9187291666666667 validation accuracy: 0.9178333333333333\n",
      "epoch: 7 training loss: 199.55812902748585 validation loss: 52.38451871275902 training accuracy: 0.9234583333333334 validation accuracy: 0.92125\n",
      "epoch: 8 training loss: 188.40328874439 validation loss: 49.872687965631485 training accuracy: 0.92825 validation accuracy: 0.9261666666666667\n",
      "epoch: 9 training loss: 178.46360758692026 validation loss: 47.35879871249199 training accuracy: 0.9319375 validation accuracy: 0.9275833333333333\n",
      "run id: 4\n",
      "epoch: 0 training loss: 1359.5551961660385 validation loss: 176.9432327747345 training accuracy: 0.5883958333333333 validation accuracy: 0.801\n",
      "epoch: 1 training loss: 466.29430255293846 validation loss: 90.14180144667625 training accuracy: 0.8482291666666667 validation accuracy: 0.8716666666666667\n",
      "epoch: 2 training loss: 313.67256316542625 validation loss: 73.94981284439564 training accuracy: 0.8857291666666667 validation accuracy: 0.8914166666666666\n",
      "epoch: 3 training loss: 269.0516178160906 validation loss: 66.79279637336731 training accuracy: 0.8991041666666667 validation accuracy: 0.8996666666666666\n",
      "epoch: 4 training loss: 244.69419811666012 validation loss: 62.069459810853004 training accuracy: 0.906875 validation accuracy: 0.9065\n",
      "epoch: 5 training loss: 227.02454364299774 validation loss: 58.3370074480772 training accuracy: 0.9137083333333333 validation accuracy: 0.9113333333333333\n",
      "epoch: 6 training loss: 212.57992943376303 validation loss: 55.1852500885725 training accuracy: 0.9191458333333333 validation accuracy: 0.9158333333333334\n",
      "epoch: 7 training loss: 200.13459219411016 validation loss: 52.43985345214605 training accuracy: 0.924 validation accuracy: 0.92\n",
      "epoch: 8 training loss: 188.98915986716747 validation loss: 49.96411431580782 training accuracy: 0.9276666666666666 validation accuracy: 0.923\n",
      "epoch: 9 training loss: 178.84042022004724 validation loss: 47.720126651227474 training accuracy: 0.931125 validation accuracy: 0.9266666666666666\n",
      "run id: 5\n",
      "epoch: 0 training loss: 818.93845307827 validation loss: 184.64603340625763 training accuracy: 0.4344791666666667 validation accuracy: 0.6676666666666666\n",
      "epoch: 1 training loss: 540.9469671845436 validation loss: 88.23797869682312 training accuracy: 0.7405833333333334 validation accuracy: 0.8035\n",
      "epoch: 2 training loss: 267.78768822550774 validation loss: 54.8415265083313 training accuracy: 0.8368125 validation accuracy: 0.8531666666666666\n",
      "epoch: 3 training loss: 190.5634005665779 validation loss: 44.106144934892654 training accuracy: 0.8679375 validation accuracy: 0.8750833333333333\n",
      "epoch: 4 training loss: 161.00596548616886 validation loss: 39.06239867210388 training accuracy: 0.8833541666666667 validation accuracy: 0.8851666666666667\n",
      "epoch: 5 training loss: 145.27969877421856 validation loss: 36.265981554985046 training accuracy: 0.89175 validation accuracy: 0.8910833333333333\n",
      "epoch: 6 training loss: 135.3948499560356 validation loss: 34.28560991585255 training accuracy: 0.898125 validation accuracy: 0.8955\n",
      "epoch: 7 training loss: 128.18926571309566 validation loss: 32.85827247798443 training accuracy: 0.9028125 validation accuracy: 0.9010833333333333\n",
      "epoch: 8 training loss: 122.57212544977665 validation loss: 31.723721504211426 training accuracy: 0.9070625 validation accuracy: 0.904\n",
      "epoch: 9 training loss: 117.83046539127827 validation loss: 30.553000584244728 training accuracy: 0.9107708333333333 validation accuracy: 0.9066666666666666\n",
      "run id: 6\n",
      "epoch: 0 training loss: 812.1630173921585 validation loss: 178.58934450149536 training accuracy: 0.4791666666666667 validation accuracy: 0.64325\n",
      "epoch: 1 training loss: 509.4308564066887 validation loss: 85.31614273786545 training accuracy: 0.7281875 validation accuracy: 0.7966666666666666\n",
      "epoch: 2 training loss: 266.88392800092697 validation loss: 55.679766446352005 training accuracy: 0.8274375 validation accuracy: 0.84775\n",
      "epoch: 3 training loss: 194.96222880482674 validation loss: 45.122832626104355 training accuracy: 0.8630416666666667 validation accuracy: 0.871\n",
      "epoch: 4 training loss: 164.77092936635017 validation loss: 39.92545089125633 training accuracy: 0.8800833333333333 validation accuracy: 0.8838333333333334\n",
      "epoch: 5 training loss: 148.25435961782932 validation loss: 36.84920281171799 training accuracy: 0.89025 validation accuracy: 0.89125\n",
      "epoch: 6 training loss: 137.6730781495571 validation loss: 34.771281361579895 training accuracy: 0.8962291666666666 validation accuracy: 0.8975\n",
      "epoch: 7 training loss: 130.1124398112297 validation loss: 33.2192253023386 training accuracy: 0.9015208333333333 validation accuracy: 0.9004166666666666\n",
      "epoch: 8 training loss: 124.24986916780472 validation loss: 31.97365193068981 training accuracy: 0.9057083333333333 validation accuracy: 0.9026666666666666\n",
      "epoch: 9 training loss: 119.41684760153294 validation loss: 30.92312105000019 training accuracy: 0.9091458333333333 validation accuracy: 0.906\n",
      "run id: 7\n",
      "epoch: 0 training loss: 3403.0773899555206 validation loss: 836.5750186443329 training accuracy: 0.24720833333333334 validation accuracy: 0.443\n",
      "epoch: 1 training loss: 3258.8276751041412 validation loss: 785.2284761667252 training accuracy: 0.549375 validation accuracy: 0.6053333333333333\n",
      "epoch: 2 training loss: 2938.7733393907547 validation loss: 670.2591648101807 training accuracy: 0.6383541666666667 validation accuracy: 0.6745833333333333\n",
      "epoch: 3 training loss: 2326.8349586725235 validation loss: 490.8592058420181 training accuracy: 0.7033541666666666 validation accuracy: 0.7391666666666666\n",
      "epoch: 4 training loss: 1656.1262077093124 validation loss: 353.3777160644531 training accuracy: 0.7701458333333333 validation accuracy: 0.7910833333333334\n",
      "epoch: 5 training loss: 1241.379190415144 validation loss: 279.5419418811798 training accuracy: 0.8099375 validation accuracy: 0.8203333333333334\n",
      "epoch: 6 training loss: 1014.7829659581184 validation loss: 237.38292947411537 training accuracy: 0.8333958333333333 validation accuracy: 0.84025\n",
      "epoch: 7 training loss: 877.8738158345222 validation loss: 210.56594316661358 training accuracy: 0.8516041666666667 validation accuracy: 0.8536666666666667\n",
      "epoch: 8 training loss: 787.72424441576 validation loss: 192.55928467214108 training accuracy: 0.8639583333333334 validation accuracy: 0.8629166666666667\n",
      "epoch: 9 training loss: 723.944369956851 validation loss: 179.02823132276535 training accuracy: 0.8728333333333333 validation accuracy: 0.8720833333333333\n",
      "run id: 8\n",
      "epoch: 0 training loss: 3407.7009274959564 validation loss: 838.183114528656 training accuracy: 0.24404166666666666 validation accuracy: 0.40908333333333335\n",
      "epoch: 1 training loss: 3265.4490337371826 validation loss: 786.5431621074677 training accuracy: 0.49795833333333334 validation accuracy: 0.5841666666666666\n",
      "epoch: 2 training loss: 2945.6631635427475 validation loss: 671.2016843557358 training accuracy: 0.6403958333333334 validation accuracy: 0.69225\n",
      "epoch: 3 training loss: 2330.991490006447 validation loss: 490.15250301361084 training accuracy: 0.7227916666666667 validation accuracy: 0.7505833333333334\n",
      "epoch: 4 training loss: 1656.71562820673 validation loss: 352.94006127119064 training accuracy: 0.7736666666666666 validation accuracy: 0.7934166666666667\n",
      "epoch: 5 training loss: 1244.899227797985 validation loss: 280.1368814408779 training accuracy: 0.8070833333333334 validation accuracy: 0.81925\n",
      "epoch: 6 training loss: 1021.1348659694195 validation loss: 238.4753262102604 training accuracy: 0.8297916666666667 validation accuracy: 0.8388333333333333\n",
      "epoch: 7 training loss: 886.0166083872318 validation loss: 211.91916999220848 training accuracy: 0.8465625 validation accuracy: 0.8520833333333333\n",
      "epoch: 8 training loss: 796.4799520373344 validation loss: 193.64142474532127 training accuracy: 0.8599583333333334 validation accuracy: 0.8619166666666667\n",
      "epoch: 9 training loss: 733.088808760047 validation loss: 180.3660998493433 training accuracy: 0.8698333333333333 validation accuracy: 0.8706666666666667\n",
      "run id: 9\n",
      "epoch: 0 training loss: 1716.5102126598358 validation loss: 427.1634864807129 training accuracy: 0.24477083333333333 validation accuracy: 0.3814166666666667\n",
      "epoch: 1 training loss: 1689.7430052757263 validation loss: 419.5378541946411 training accuracy: 0.4543125 validation accuracy: 0.5206666666666667\n",
      "epoch: 2 training loss: 1653.7331335544586 validation loss: 408.7669949531555 training accuracy: 0.5756041666666667 validation accuracy: 0.6223333333333333\n",
      "epoch: 3 training loss: 1600.91996383667 validation loss: 392.6285169124603 training accuracy: 0.6452916666666667 validation accuracy: 0.6620833333333334\n",
      "epoch: 4 training loss: 1520.5359953641891 validation loss: 368.05043745040894 training accuracy: 0.6747708333333333 validation accuracy: 0.6806666666666666\n",
      "epoch: 5 training loss: 1400.711552619934 validation loss: 332.58613085746765 training accuracy: 0.6937708333333333 validation accuracy: 0.7043333333333334\n",
      "epoch: 6 training loss: 1237.8554940223694 validation loss: 287.4697678089142 training accuracy: 0.7180416666666667 validation accuracy: 0.7286666666666667\n",
      "epoch: 7 training loss: 1051.2502797842026 validation loss: 241.21614277362823 training accuracy: 0.7451666666666666 validation accuracy: 0.7568333333333334\n",
      "epoch: 8 training loss: 878.6960853934288 validation loss: 202.54872381687164 training accuracy: 0.7737291666666667 validation accuracy: 0.7866666666666666\n",
      "epoch: 9 training loss: 743.8872969150543 validation loss: 173.80046099424362 training accuracy: 0.7984375 validation accuracy: 0.8020833333333334\n",
      "run id: 10\n",
      "epoch: 0 training loss: 1717.7018365859985 validation loss: 427.8575658798218 training accuracy: 0.15283333333333332 validation accuracy: 0.25625\n",
      "epoch: 1 training loss: 1694.9547641277313 validation loss: 421.43296575546265 training accuracy: 0.3494583333333333 validation accuracy: 0.4518333333333333\n",
      "epoch: 2 training loss: 1664.6167721748352 validation loss: 412.40471148490906 training accuracy: 0.5138333333333334 validation accuracy: 0.55575\n",
      "epoch: 3 training loss: 1620.0406379699707 validation loss: 398.7499523162842 training accuracy: 0.5762291666666667 validation accuracy: 0.5921666666666666\n",
      "epoch: 4 training loss: 1551.7750663757324 validation loss: 377.7458517551422 training accuracy: 0.6085208333333333 validation accuracy: 0.6235833333333334\n",
      "epoch: 5 training loss: 1447.943761229515 validation loss: 346.4093973636627 training accuracy: 0.6458541666666666 validation accuracy: 0.6648333333333334\n",
      "epoch: 6 training loss: 1300.3696993589401 validation loss: 304.35255312919617 training accuracy: 0.6860833333333334 validation accuracy: 0.6990833333333333\n",
      "epoch: 7 training loss: 1118.866262435913 validation loss: 257.35592889785767 training accuracy: 0.7200625 validation accuracy: 0.73225\n",
      "epoch: 8 training loss: 937.7494598031044 validation loss: 215.54493445158005 training accuracy: 0.7529791666666666 validation accuracy: 0.7663333333333333\n",
      "epoch: 9 training loss: 789.9337288141251 validation loss: 183.92481923103333 training accuracy: 0.7818125 validation accuracy: 0.79075\n",
      "run id: 11\n",
      "epoch: 0 training loss: 859.3593158721924 validation loss: 214.64929628372192 training accuracy: 0.14629166666666665 validation accuracy: 0.176\n",
      "epoch: 1 training loss: 853.708518743515 validation loss: 213.16803669929504 training accuracy: 0.22797916666666668 validation accuracy: 0.29341666666666666\n",
      "epoch: 2 training loss: 847.3547768592834 validation loss: 211.4610631465912 training accuracy: 0.3413125 validation accuracy: 0.3908333333333333\n",
      "epoch: 3 training loss: 839.9190165996552 validation loss: 209.43084263801575 training accuracy: 0.4381875 validation accuracy: 0.493\n",
      "epoch: 4 training loss: 830.9636597633362 validation loss: 206.96032333374023 training accuracy: 0.5154375 validation accuracy: 0.535\n",
      "epoch: 5 training loss: 819.9781320095062 validation loss: 203.91209316253662 training accuracy: 0.5445208333333333 validation accuracy: 0.5556666666666666\n",
      "epoch: 6 training loss: 806.3884670734406 validation loss: 200.1400158405304 training accuracy: 0.5611041666666666 validation accuracy: 0.5658333333333333\n",
      "epoch: 7 training loss: 789.5382883548737 validation loss: 195.43995642662048 training accuracy: 0.5681666666666667 validation accuracy: 0.57675\n",
      "epoch: 8 training loss: 768.6482157707214 validation loss: 189.65879034996033 training accuracy: 0.5834166666666667 validation accuracy: 0.59125\n",
      "epoch: 9 training loss: 742.8977937698364 validation loss: 182.551211476326 training accuracy: 0.6017083333333333 validation accuracy: 0.608\n",
      "run id: 12\n",
      "epoch: 0 training loss: 861.3144645690918 validation loss: 215.20945167541504 training accuracy: 0.13404166666666667 validation accuracy: 0.16975\n",
      "epoch: 1 training loss: 856.0455803871155 validation loss: 213.861168384552 training accuracy: 0.20554166666666668 validation accuracy: 0.247\n",
      "epoch: 2 training loss: 850.4272317886353 validation loss: 212.3839213848114 training accuracy: 0.2850625 validation accuracy: 0.33725\n",
      "epoch: 3 training loss: 844.1386113166809 validation loss: 210.69638800621033 training accuracy: 0.3796875 validation accuracy: 0.41775\n",
      "epoch: 4 training loss: 836.8361051082611 validation loss: 208.7064642906189 training accuracy: 0.4540416666666667 validation accuracy: 0.48041666666666666\n",
      "epoch: 5 training loss: 828.1068067550659 validation loss: 206.3013036251068 training accuracy: 0.5097291666666667 validation accuracy: 0.5273333333333333\n",
      "epoch: 6 training loss: 817.4618897438049 validation loss: 203.34638142585754 training accuracy: 0.5524583333333334 validation accuracy: 0.5631666666666667\n",
      "epoch: 7 training loss: 804.300520658493 validation loss: 199.6732292175293 training accuracy: 0.584125 validation accuracy: 0.592\n",
      "epoch: 8 training loss: 787.870683670044 validation loss: 195.07682943344116 training accuracy: 0.6083541666666666 validation accuracy: 0.6134166666666667\n",
      "epoch: 9 training loss: 767.280922293663 validation loss: 189.32302260398865 training accuracy: 0.6235833333333334 validation accuracy: 0.6281666666666667\n"
     ]
    }
   ],
   "metadata": {}
  },
  {
   "cell_type": "code",
   "execution_count": 68,
   "source": [
    "# epochs = 10\r\n",
    "# for epoch in range(epochs):\r\n",
    "#     model.eval()\r\n",
    "#     val_loss = 0\r\n",
    "#     correct = 0\r\n",
    "    \r\n",
    "#     with torch.no_grad():\r\n",
    "#         for images, labels in valloader:\r\n",
    "#             images, labels = images.to(device), labels.to(device)\r\n",
    "#             # Flatten MNIST images into a 784 long vector\r\n",
    "#             images = images.view(images.shape[0], -1)\r\n",
    "#             #images = ball.projx(images.view(images.shape[0], -1))\r\n",
    "#             output = model(images)\r\n",
    "#             loss = criterion(output, labels)  \r\n",
    "#             val_loss += loss.item()\r\n",
    "#             correct += get_num_correct(output, labels)\r\n",
    "\r\n",
    "#         tb.add_scalar(\"Validation Loss\", val_loss, epoch)\r\n",
    "#         tb.add_scalar(\"Validation Accuracy\", correct/len(val_data), epoch)\r\n",
    "#         print(\"epoch:\", epoch, \"total correct:\", correct, \"validation loss:\",val_loss)\r\n",
    "#         print(\"Validation Accuracy\", correct/len(val_data))\r\n",
    "# tb.close()"
   ],
   "outputs": [],
   "metadata": {}
  },
  {
   "cell_type": "code",
   "execution_count": 69,
   "source": [
    "# images, labels = next(iter(testloader))\r\n",
    "# #images, labels = images.to(device), labels.to(device)\r\n",
    "\r\n",
    "# img = images[0].view(1, 784)\r\n",
    "# #img = ball.projx(images[0].view(1, 784))\r\n",
    "# #img_gpu = img.to(device)\r\n",
    "# with torch.no_grad():\r\n",
    "#     out = model(img)\r\n",
    "\r\n",
    "# ps = out.cpu()\r\n",
    "# print(ps)\r\n",
    "# probab = list(ps.numpy()[0])\r\n",
    "# print(probab)\r\n",
    "# print(\"Predicted Digit =\", probab.index(max(probab)))\r\n",
    "# helper.view_classify(img.view(1, 28, 28), ps)"
   ],
   "outputs": [],
   "metadata": {}
  },
  {
   "cell_type": "markdown",
   "source": [
    "#Model Prediction and Model Accuracy"
   ],
   "metadata": {}
  },
  {
   "cell_type": "code",
   "execution_count": 70,
   "source": [
    "correct_count, all_count = 0, 0\r\n",
    "for images,labels in testloader:\r\n",
    "  images, labels = images.to(device), labels.to(device)\r\n",
    "  for i in range(len(labels)):\r\n",
    "    img = images[i].view(1, 784)\r\n",
    "    #img = ball.projx(images[i].view(1, 784))\r\n",
    "    with torch.no_grad():\r\n",
    "        out = model(img)\r\n",
    "\r\n",
    "    ps = out.cpu()\r\n",
    "    probab = list(ps.numpy()[0])\r\n",
    "    pred_label = probab.index(max(probab))\r\n",
    "    true_label = labels.cpu().numpy()[i]\r\n",
    "    if(true_label == pred_label):\r\n",
    "      correct_count += 1\r\n",
    "    all_count += 1\r\n",
    "    \r\n",
    "print(\"Number Of Images Tested =\", all_count)\r\n",
    "print(\"\\nModel Accuracy =\", (correct_count/all_count))"
   ],
   "outputs": [
    {
     "output_type": "stream",
     "name": "stdout",
     "text": [
      "Number Of Images Tested = 10000\n",
      "\n",
      "Model Accuracy = 0.6335\n"
     ]
    }
   ],
   "metadata": {}
  },
  {
   "cell_type": "markdown",
   "source": [
    "Current status of experiments:\r\n",
    "1. Using just Hyperboic Linear modules, and with the appropriate self-tuned hyperparameters, and a batch size of 512, the average accuracy was around 90 percent\r\n",
    "2. With the use of activation functions(ReLu, ReLu, then LogSoftMax at the output layer), (by applying the functions in the tangent space, then mapping it back to the hyperbolic space), we see an increase in the model accuracy to about 97-98 percent.\r\n",
    "3. To account for the correct class probabilities , linear layer was used as the output layer instead, together with the crossentropy loss function."
   ],
   "metadata": {}
  },
  {
   "cell_type": "code",
   "execution_count": null,
   "source": [],
   "outputs": [],
   "metadata": {}
  }
 ]
}