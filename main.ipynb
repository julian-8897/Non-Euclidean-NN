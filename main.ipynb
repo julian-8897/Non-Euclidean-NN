{
 "metadata": {
  "language_info": {
   "codemirror_mode": {
    "name": "ipython",
    "version": 3
   },
   "file_extension": ".py",
   "mimetype": "text/x-python",
   "name": "python",
   "nbconvert_exporter": "python",
   "pygments_lexer": "ipython3",
   "version": "3.9.6"
  },
  "orig_nbformat": 4,
  "kernelspec": {
   "name": "python3",
   "display_name": "Python 3.9.6 64-bit"
  },
  "interpreter": {
   "hash": "63fd5069d213b44bf678585dea6b12cceca9941eaf7f819626cde1f2670de90d"
  }
 },
 "nbformat": 4,
 "nbformat_minor": 2,
 "cells": [
  {
   "source": [
    "Imports"
   ],
   "cell_type": "markdown",
   "metadata": {}
  },
  {
   "cell_type": "code",
   "execution_count": 8,
   "metadata": {},
   "outputs": [],
   "source": [
    "import feed_forward\n",
    "import numpy as np\n",
    "import torch\n",
    "import torch.nn as nn\n",
    "import geoopt"
   ]
  },
  {
   "source": [
    "Initializing the model"
   ],
   "cell_type": "markdown",
   "metadata": {}
  },
  {
   "cell_type": "code",
   "execution_count": 9,
   "metadata": {},
   "outputs": [],
   "source": [
    "ball = geoopt.PoincareBall()\n",
    "model = feed_forward.HypFF()\n",
    "params = list(model.parameters())\n",
    "point = torch.randn(1)\n",
    "input = ball.projx(point)\n",
    "output = model(input)"
   ]
  },
  {
   "cell_type": "code",
   "execution_count": 10,
   "metadata": {},
   "outputs": [
    {
     "output_type": "stream",
     "name": "stdout",
     "text": [
      "HypFF(\n  (fc1): MobLinear(\n    in_features=1, out_features=1, bias=True\n    (ball): PoincareBall manifold\n  )\n  (fc2): MobLinear(\n    in_features=1, out_features=1, bias=True\n    (ball): PoincareBall manifold\n  )\n)\nOutput is : tensor([-0.5963], grad_fn=<SWhereBackward>)\n"
     ]
    }
   ],
   "source": [
    "print(model)\n",
    "print(\"Output is :\", output)"
   ]
  },
  {
   "source": [
    "Loss Function"
   ],
   "cell_type": "markdown",
   "metadata": {}
  },
  {
   "source": [
    "target = torch.randn(1)  # a dummy target, for example\n",
    "criterion = nn.MSELoss()\n",
    "\n",
    "loss = criterion(output, target)\n",
    "print(loss)"
   ],
   "cell_type": "code",
   "metadata": {},
   "execution_count": 13,
   "outputs": [
    {
     "output_type": "stream",
     "name": "stdout",
     "text": [
      "tensor(0.0993, grad_fn=<MseLossBackward>)\n"
     ]
    }
   ]
  },
  {
   "cell_type": "code",
   "execution_count": null,
   "metadata": {},
   "outputs": [],
   "source": []
  }
 ]
}